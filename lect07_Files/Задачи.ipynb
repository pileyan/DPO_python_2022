{
 "cells": [
  {
   "cell_type": "markdown",
   "metadata": {},
   "source": [
    "# Про список\n",
    "\n",
    "Поменять в списке местами самый большой и самый маленький элементы"
   ]
  },
  {
   "cell_type": "code",
   "execution_count": 13,
   "metadata": {},
   "outputs": [],
   "source": [
    "import numpy as np\n",
    "\n",
    "lst = list(np.random.random(10000))"
   ]
  },
  {
   "cell_type": "code",
   "execution_count": 17,
   "metadata": {},
   "outputs": [
    {
     "name": "stdout",
     "output_type": "stream",
     "text": [
      "CPU times: user 1.2 ms, sys: 32 µs, total: 1.23 ms\n",
      "Wall time: 1.3 ms\n"
     ]
    }
   ],
   "source": [
    "%%time\n",
    "# lst = [1,2,56,7,9,4]\n",
    "minim, maxim = min(lst), max(lst)\n",
    "lst[lst.index(minim)], lst[lst.index(maxim)] = lst[lst.index(maxim)], lst[lst.index(minim)]\n"
   ]
  },
  {
   "cell_type": "code",
   "execution_count": 16,
   "metadata": {},
   "outputs": [
    {
     "data": {
      "text/plain": [
       "(3, 2)"
      ]
     },
     "execution_count": 16,
     "metadata": {},
     "output_type": "execute_result"
    }
   ],
   "source": [
    "a = 2\n",
    "b = 3\n",
    "\n",
    "a, b = b, a\n",
    "\n",
    "a,b"
   ]
  },
  {
   "cell_type": "code",
   "execution_count": 2,
   "metadata": {},
   "outputs": [],
   "source": [
    "def swap(lst):\n",
    "    index_min = 0\n",
    "    index_max = 0\n",
    "    \n",
    "    minimal = lst[index_min]\n",
    "    maximal = lst[index_max]\n",
    "    \n",
    "    for index in range(1, len(lst)):\n",
    "        if lst[index] < minimal:\n",
    "            minimal = lst[index]\n",
    "            index_min = index\n",
    "        \n",
    "        if lst[index] > maximal:\n",
    "            maximal = lst[index]\n",
    "            index_max = index\n",
    "    \n",
    "    lst[index_min], lst[index_max] = lst[index_max], lst[index_min]\n",
    "        \n",
    "    return lst"
   ]
  },
  {
   "cell_type": "code",
   "execution_count": 15,
   "metadata": {},
   "outputs": [
    {
     "name": "stdout",
     "output_type": "stream",
     "text": [
      "CPU times: user 1.29 ms, sys: 7 µs, total: 1.29 ms\n",
      "Wall time: 1.37 ms\n"
     ]
    }
   ],
   "source": [
    "%%time\n",
    "lst = swap(lst)"
   ]
  },
  {
   "cell_type": "markdown",
   "metadata": {},
   "source": [
    "# Про скобочную последовательность\n",
    "\n",
    "Дана произвольная последовательность из скобочек трех типов \n",
    "   \n",
    "    () {} и []\n",
    "    \n",
    "Последовательность считается несбалансированной, если в ней есть незакрытые скобки. \n",
    "\n",
    "Например:\n",
    "\n",
    "    (}[] - несбалансированная\n",
    "    ({})[] - сбалансированная\n",
    "\n",
    "При этом закрытие разных видов скобок должно происходить в логичном формате, а именно:\n",
    "    \n",
    "    ({)}[] - несбалансированная \n",
    "    ({[]}[]){} - сбалансированная\n",
    "    \n",
    "Напишите функцию, которая на вход принимает произвольную скобочную последовательность, и выдает вердикт: сбалансированная она или нет"
   ]
  },
  {
   "cell_type": "code",
   "execution_count": 31,
   "metadata": {},
   "outputs": [
    {
     "name": "stdout",
     "output_type": "stream",
     "text": [
      "[']']\n",
      "[']', '}']\n",
      "[']', '}']\n",
      "NOT BALANCED\n"
     ]
    },
    {
     "data": {
      "text/plain": [
       "False"
      ]
     },
     "execution_count": 31,
     "metadata": {},
     "output_type": "execute_result"
    }
   ],
   "source": [
    "def is_balanced(my_str):\n",
    "#     if len(my_str)%2 == 1:\n",
    "#         return False\n",
    "    lst = list()\n",
    "    for i in my_str:\n",
    "        if i == '(':\n",
    "            lst.append(')')\n",
    "            print(lst)\n",
    "        elif i == '{':\n",
    "            lst.append('}')\n",
    "            print(lst)\n",
    "        elif i == '[':\n",
    "            lst.append(']')\n",
    "            print(lst)\n",
    "        else:\n",
    "            print(lst)\n",
    "            if len(lst) == 0 or lst.pop() != i:\n",
    "                print('NOT BALANCED')\n",
    "                return False\n",
    "    return len(lst) == 0\n",
    "\n",
    "is_balanced('[{]}')"
   ]
  },
  {
   "cell_type": "code",
   "execution_count": 20,
   "metadata": {},
   "outputs": [
    {
     "name": "stdout",
     "output_type": "stream",
     "text": [
      ")()\n",
      "not ok!\n"
     ]
    }
   ],
   "source": [
    "line = input('')\n",
    "while '()' in line:\n",
    "    line = line.replace('()', '')\n",
    "print('ok' if not line else 'not ok!')"
   ]
  },
  {
   "cell_type": "markdown",
   "metadata": {},
   "source": [
    "# Азбука Морзе\n",
    "\n",
    "Напишите функцию, которая будет перекодировать текст на русском языке в азбуку Морзе"
   ]
  },
  {
   "cell_type": "code",
   "execution_count": 69,
   "metadata": {},
   "outputs": [],
   "source": [
    "morse_dict = {\n",
    "    'а': '.-',\n",
    "    'б': '-...',\n",
    "    'в': '.--',\n",
    "    'г': '--.',\n",
    "    'д': '-..',\n",
    "    'е': '.',\n",
    "    'ж': '...-',\n",
    "    'з': '--..',\n",
    "    'и': '..',\n",
    "    'й': '.---',\n",
    "    'к': '-.-',\n",
    "    'л': '.-..',\n",
    "    'м': '--',\n",
    "    'н': '-.',\n",
    "    'о': '---',\n",
    "    'п': '.--.',\n",
    "    'р': '.-.',\n",
    "    'с': '...',\n",
    "    'т': '-',\n",
    "    'у': '..-',\n",
    "    'ф': '..-.',\n",
    "    'х': '....',\n",
    "    'ц': '-.-.',\n",
    "    'ч': '---.',\n",
    "    'ш': '----',\n",
    "    'щ': '--.-',\n",
    "    'ъ': '.--.-.',\n",
    "    'ы': '-.--',\n",
    "    'ь': '-..-',\n",
    "    'э': '..-..',\n",
    "    'ю': '..--',\n",
    "    'я': '.-.-',\n",
    "    '1' :'·−−−−',\n",
    "    '2' :'··−−−',\n",
    "    '3' :'···−−',\n",
    "    '4' :'····−',\n",
    "    '5' :'·····',\n",
    "    '6' :'−····',\n",
    "    '7' :'−−···',\n",
    "    '8' :'−−−··',\n",
    "    '9' :'−−−−·',\n",
    "    '0' :'−−−−−',\n",
    "}"
   ]
  },
  {
   "cell_type": "code",
   "execution_count": 72,
   "metadata": {},
   "outputs": [
    {
     "data": {
      "text/plain": [
       "'.-'"
      ]
     },
     "execution_count": 72,
     "metadata": {},
     "output_type": "execute_result"
    }
   ],
   "source": [
    "morse_dict['а']"
   ]
  },
  {
   "cell_type": "code",
   "execution_count": null,
   "metadata": {},
   "outputs": [],
   "source": [
    "'._-'"
   ]
  },
  {
   "cell_type": "code",
   "execution_count": 1,
   "metadata": {},
   "outputs": [],
   "source": [
    "# 'а': '.-'\n",
    "# 'б': '-...'\n",
    "# 'в': '.--'\n",
    "# 'г': '--.'\n",
    "# 'д': '-..'\n",
    "# 'е': '.'\n",
    "# 'ж': '...-'\n",
    "# 'з': '--..'\n",
    "# 'и': '..'\n",
    "# 'й': '.---'\n",
    "# 'к': '-.-'\n",
    "# 'л': '.-..'\n",
    "# 'м': '--'\n",
    "# 'н': '-.'\n",
    "# 'о': '---'\n",
    "# 'п': '.--.'\n",
    "# 'р': '.-.'\n",
    "# 'с': '...'\n",
    "# 'т': '-'\n",
    "# 'у': '..-'\n",
    "# 'ф': '..-.'\n",
    "# 'х': '....'\n",
    "# 'ц': '-.-.'\n",
    "# 'ч': '---.'\n",
    "# 'ш': '----'\n",
    "# 'щ': '--.-'\n",
    "# 'ъ': '.--.-.'\n",
    "# 'ы': '-.--'\n",
    "# 'ь': '-..-'\n",
    "# 'э': '..-..'\n",
    "# 'ю': '..--'\n",
    "# 'я': '.-.-'\n",
    "# 1 :'·−−−−'\n",
    "# 2 :'··−−−'\n",
    "# 3 :'·_·_·_−_−'___\n",
    "# 4 :'····−'\n",
    "# 5 :'·····'\n",
    "# 6 :'−····'\n",
    "# 7 :'−−···'\n",
    "# 8 :'−−−··'\n",
    "# 9 :'−−−−·'\n",
    "# 0 :'−−−−−'\n",
    "\n",
    "# Пауза между элементами одного знака — одна точка, \n",
    "# между знаками в слове — 3 точки, между словами — 7 точек\n",
    "# Пауза длиной в точку = _"
   ]
  },
  {
   "cell_type": "code",
   "execution_count": null,
   "metadata": {},
   "outputs": [],
   "source": [
    "test_string = ['П___рием', \n",
    "               'Необходимо передать сообщение на 245 борт',\n",
    "               '4 4 1 2 3456 100']"
   ]
  },
  {
   "cell_type": "code",
   "execution_count": null,
   "metadata": {},
   "outputs": [],
   "source": []
  },
  {
   "cell_type": "code",
   "execution_count": 75,
   "metadata": {},
   "outputs": [],
   "source": [
    "s='привет мир'\n",
    "for c in morse_dict:\n",
    "    morse_dict[c]='_'.join(morse_dict[c])\n"
   ]
  },
  {
   "cell_type": "code",
   "execution_count": 80,
   "metadata": {},
   "outputs": [
    {
     "data": {
      "text/plain": [
       "'-_._._.___._-_._.___._-_______-_._._.___._-_._.___._-_______-_._-___._-___._-_.'"
      ]
     },
     "execution_count": 80,
     "metadata": {},
     "output_type": "execute_result"
    }
   ],
   "source": [
    "my_string = \"бла бла кар\"\n",
    "\n",
    "'_______'.join(['___'.join([morse_dict[char] for char in word]) for word in my_string.split(' ')])"
   ]
  },
  {
   "cell_type": "markdown",
   "metadata": {},
   "source": [
    "### 1. Решить \"в один прогон\" - без разбиения на слова (грубо говоря - один for)\n",
    "\n",
    "### 2. Найти пикалку и пропикать :)"
   ]
  },
  {
   "cell_type": "markdown",
   "metadata": {},
   "source": [
    "# Шифрование \n",
    "\n",
    "необходимо зашифровать текст написанный на русском языке. \n",
    "Алгоритм шифрования такой: берем алфавит русского языка, случайно перемешиваем его (каждая буква в алфавите имеет номер своей позиции в алфавите), затем на каждой позиции правильного алфавита мы заменяем буквами из перемешанного  алфавита."
   ]
  },
  {
   "cell_type": "code",
   "execution_count": 36,
   "metadata": {},
   "outputs": [
    {
     "data": {
      "text/plain": [
       "'абвгдежзийклмнопрстуфхцчшщъыьэюяё'"
      ]
     },
     "execution_count": 36,
     "metadata": {},
     "output_type": "execute_result"
    }
   ],
   "source": [
    "alphabet = ''.join(sorted('йцукенгшщзхъфывапролджэячсмитьбюё'))\n",
    "alphabet"
   ]
  },
  {
   "cell_type": "code",
   "execution_count": 49,
   "metadata": {
    "scrolled": true
   },
   "outputs": [
    {
     "data": {
      "text/plain": [
       "'вощзъдчуымюньклйеиябрфагхпёшсэцтж'"
      ]
     },
     "execution_count": 49,
     "metadata": {},
     "output_type": "execute_result"
    }
   ],
   "source": [
    "import random \n",
    "\n",
    "alph = sorted(alphabet)\n",
    "random.shuffle(alph)\n",
    "code= ''.join(alph)\n",
    "code"
   ]
  },
  {
   "cell_type": "code",
   "execution_count": 58,
   "metadata": {},
   "outputs": [
    {
     "data": {
      "text/plain": [
       "'рсйгжу упгбсйъ'"
      ]
     },
     "execution_count": 58,
     "metadata": {},
     "output_type": "execute_result"
    }
   ],
   "source": [
    "text = 'привет товарищ'\n",
    "ord(s) # Индекс в кодировке\n",
    "chr(ord(s)) # Элемент по указанному индексу в кодировке\n",
    "''.join([chr(ord(e)+1) if e!=' ' else ' ' for e in text])"
   ]
  },
  {
   "cell_type": "code",
   "execution_count": 61,
   "metadata": {},
   "outputs": [],
   "source": [
    "def crypt(abc_from, abc_to, text):\n",
    "    return ''.join(abc_to[abc_from.index(cch)] if cch!=' ' else ' ' for cch in text)"
   ]
  },
  {
   "cell_type": "code",
   "execution_count": 62,
   "metadata": {},
   "outputs": [
    {
     "data": {
      "text/plain": [
       "'лъквчъш щ иябъжкбц уыькцц йлеб'"
      ]
     },
     "execution_count": 62,
     "metadata": {},
     "output_type": "execute_result"
    }
   ],
   "source": [
    "s = 'однажды в студёную зимнюю пору'\n",
    "\n",
    "crypt(alphabet, code, s)"
   ]
  },
  {
   "cell_type": "markdown",
   "metadata": {},
   "source": [
    "# Медиана медиан\n",
    "\n",
    "Одним из алгоритмов аппроксимации медианы является \"медиана медиан\". \n",
    "Алгоритм такой. Разбить список из n элементов на подпоследовательности длины k (например 5 или 7)\n",
    "в Каждой из них найти медиану. Таким образом мы получаем последовательность из n/k медиан.\n",
    "Рекурсивно применять алгоритм, пока длина последовательности не станет меньше или равна k. Тогда надо вернуть ее медиану.\n",
    "\n",
    "Задача: напишите такую функцию\n",
    "\n",
    "и протестируйте как зависит скорость ее работы от способа реализации (можно по-разному сортировать для поиска медианы, можно выбирать разные длины последовательностей). А главное - сравните производительность с функцией np.median\n",
    "\n"
   ]
  },
  {
   "cell_type": "code",
   "execution_count": 113,
   "metadata": {},
   "outputs": [],
   "source": [
    "import numpy as np\n",
    "\n",
    "x = list(np.random.random(10000) + np.random.normal(2000, 500, 10000))\n"
   ]
  },
  {
   "cell_type": "code",
   "execution_count": 115,
   "metadata": {},
   "outputs": [
    {
     "data": {
      "text/plain": [
       "2011.1393506361692"
      ]
     },
     "execution_count": 115,
     "metadata": {},
     "output_type": "execute_result"
    }
   ],
   "source": [
    "np.median(x)"
   ]
  },
  {
   "cell_type": "code",
   "execution_count": 106,
   "metadata": {},
   "outputs": [],
   "source": [
    "tst = list(np.random.random(1004))"
   ]
  },
  {
   "cell_type": "code",
   "execution_count": 107,
   "metadata": {},
   "outputs": [],
   "source": [
    "def split(count, src):\n",
    "    return [ src[i*count : (i+1)* count] for i in range(len(src)//count+(len(src)%count != 0)*1) ]"
   ]
  },
  {
   "cell_type": "code",
   "execution_count": 112,
   "metadata": {},
   "outputs": [],
   "source": [
    "def my_median(count, src):\n",
    "    \n",
    "    sublists = split(count, src)\n",
    "    medians = []     \n",
    "    for sublist in sublists:    \n",
    "        medians.append(sorted(sublist)[len(sublist)//2])\n",
    "    if len(medians) == 1:\n",
    "        return medians[0]\n",
    "    else:\n",
    "        return my_median(count, medians)"
   ]
  },
  {
   "cell_type": "code",
   "execution_count": 125,
   "metadata": {},
   "outputs": [],
   "source": [
    "lst = []\n",
    "for _ in range(1000):\n",
    "    x = list(np.random.random(10000)*1000 + np.random.normal(2000, 500, 10000))\n",
    "    lst.append(abs(np.median(x) - my_median(7, x))/np.median(x))"
   ]
  },
  {
   "cell_type": "code",
   "execution_count": 126,
   "metadata": {},
   "outputs": [
    {
     "data": {
      "text/plain": [
       "(array([314., 237., 193., 126.,  63.,  32.,  25.,   6.,   3.,   1.]),\n",
       " array([6.53527830e-07, 2.17525093e-03, 4.34984832e-03, 6.52444572e-03,\n",
       "        8.69904312e-03, 1.08736405e-02, 1.30482379e-02, 1.52228353e-02,\n",
       "        1.73974327e-02, 1.95720301e-02, 2.17466275e-02]),\n",
       " <a list of 10 Patch objects>)"
      ]
     },
     "execution_count": 126,
     "metadata": {},
     "output_type": "execute_result"
    },
    {
     "data": {
      "image/png": "[encoded data removed]",
      "text/plain": [
       "<Figure size 432x288 with 1 Axes>"
      ]
     },
     "metadata": {
      "needs_background": "light"
     },
     "output_type": "display_data"
    }
   ],
   "source": [
    "import matplotlib.pyplot as plt\n",
    "plt.hist(lst)"
   ]
  },
  {
   "cell_type": "code",
   "execution_count": null,
   "metadata": {},
   "outputs": [],
   "source": []
  }
 ],
 "metadata": {
  "kernelspec": {
   "display_name": "Python 3",
   "language": "python",
   "name": "python3"
  },
  "language_info": {
   "codemirror_mode": {
    "name": "ipython",
    "version": 3
   },
   "file_extension": ".py",
   "mimetype": "text/x-python",
   "name": "python",
   "nbconvert_exporter": "python",
   "pygments_lexer": "ipython3",
   "version": "3.8.3"
  }
 },
 "nbformat": 4,
 "nbformat_minor": 4
}
