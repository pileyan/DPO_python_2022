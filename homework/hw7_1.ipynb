{
 "cells": [
  {
   "cell_type": "code",
   "execution_count": 1,
   "metadata": {},
   "outputs": [],
   "source": [
    "import pandas as pd"
   ]
  },
  {
   "cell_type": "code",
   "execution_count": 2,
   "metadata": {},
   "outputs": [],
   "source": [
    "df = pd.read_csv('hw_data.csv')"
   ]
  },
  {
   "cell_type": "markdown",
   "metadata": {},
   "source": [
    "# Описание\n",
    "\n",
    "Мы хотим, чтобы пользователи нашего приложения возвращались в него чаще. Для этого мы решили рассылать Push-уведомления с полезной информацией, для этого пользователей разделили на три группы:\n",
    "\n",
    "* Группу FORCE решили принудительно подписать на push-уведомления и посмотреть что будет\n",
    "* Группу ASK, в которой спросили, хотят ли пользователи подписаться, и если да, начинали отправлять ему push'и, а если нет, то ничего не отправляли\n",
    "* Группу OTHER - это все остальные, им мы ничего не рассылаем\n",
    "\n",
    "Анализ решили проводить только на новых за этот период пользователях, поэтому самая ранняя дата для каждого пользователя - дата его первого посещения приложения (когда он пришел на сервис впервые).\n",
    "Что есть в наших данных:\n",
    "\n",
    "* exp_group - Название группы эксперимента\n",
    "* dt - день посещения пользователем приложения\n",
    "* platform - с какой платформы он пришел\n",
    "* device_id - уникальный идентификатор пользователя"
   ]
  },
  {
   "cell_type": "markdown",
   "metadata": {},
   "source": [
    "# Перевести в человеческого вида дату"
   ]
  },
  {
   "cell_type": "code",
   "execution_count": 4,
   "metadata": {},
   "outputs": [],
   "source": [
    "df['date'] = pd.to_datetime(df['dt'],format='%d/%m/%y')"
   ]
  },
  {
   "cell_type": "code",
   "execution_count": 5,
   "metadata": {},
   "outputs": [
    {
     "data": {
      "text/html": [
       "<div>\n",
       "<style scoped>\n",
       "    .dataframe tbody tr th:only-of-type {\n",
       "        vertical-align: middle;\n",
       "    }\n",
       "\n",
       "    .dataframe tbody tr th {\n",
       "        vertical-align: top;\n",
       "    }\n",
       "\n",
       "    .dataframe thead th {\n",
       "        text-align: right;\n",
       "    }\n",
       "</style>\n",
       "<table border=\"1\" class=\"dataframe\">\n",
       "  <thead>\n",
       "    <tr style=\"text-align: right;\">\n",
       "      <th></th>\n",
       "      <th>exp_group</th>\n",
       "      <th>dt</th>\n",
       "      <th>device_id</th>\n",
       "      <th>platform</th>\n",
       "      <th>date</th>\n",
       "    </tr>\n",
       "  </thead>\n",
       "  <tbody>\n",
       "    <tr>\n",
       "      <th>0</th>\n",
       "      <td>ASK</td>\n",
       "      <td>02/03/21</td>\n",
       "      <td>67974bec4b4c2dd2e5294b5208098fbe843026f7f6b2c4...</td>\n",
       "      <td>android</td>\n",
       "      <td>2021-03-02</td>\n",
       "    </tr>\n",
       "    <tr>\n",
       "      <th>1</th>\n",
       "      <td>OTHER</td>\n",
       "      <td>10/03/21</td>\n",
       "      <td>c4f890ef079ae647c67a00da6a7f5bb49e91ab531d18da...</td>\n",
       "      <td>android</td>\n",
       "      <td>2021-03-10</td>\n",
       "    </tr>\n",
       "    <tr>\n",
       "      <th>2</th>\n",
       "      <td>OTHER</td>\n",
       "      <td>08/03/21</td>\n",
       "      <td>c4f890ef079ae647c67a00da6a7f5bb49e91ab531d18da...</td>\n",
       "      <td>android</td>\n",
       "      <td>2021-03-08</td>\n",
       "    </tr>\n",
       "    <tr>\n",
       "      <th>3</th>\n",
       "      <td>OTHER</td>\n",
       "      <td>13/03/21</td>\n",
       "      <td>a3bfce93eceb1e564bbbe4a6c64509e2836573396ab51f...</td>\n",
       "      <td>android</td>\n",
       "      <td>2021-03-13</td>\n",
       "    </tr>\n",
       "    <tr>\n",
       "      <th>4</th>\n",
       "      <td>OTHER</td>\n",
       "      <td>14/03/21</td>\n",
       "      <td>761a1b1eae1361cb80e5b572baccd46f7439a37140f4d8...</td>\n",
       "      <td>android</td>\n",
       "      <td>2021-03-14</td>\n",
       "    </tr>\n",
       "    <tr>\n",
       "      <th>...</th>\n",
       "      <td>...</td>\n",
       "      <td>...</td>\n",
       "      <td>...</td>\n",
       "      <td>...</td>\n",
       "      <td>...</td>\n",
       "    </tr>\n",
       "    <tr>\n",
       "      <th>398929</th>\n",
       "      <td>OTHER</td>\n",
       "      <td>20/02/21</td>\n",
       "      <td>c70b1338542dcdd2686bd95e3a7de4251a0b8bfef92b2c...</td>\n",
       "      <td>android</td>\n",
       "      <td>2021-02-20</td>\n",
       "    </tr>\n",
       "    <tr>\n",
       "      <th>398930</th>\n",
       "      <td>OTHER</td>\n",
       "      <td>27/02/21</td>\n",
       "      <td>04fed97f7ed72d11640455a645261cc24b6de3a89d8072...</td>\n",
       "      <td>android</td>\n",
       "      <td>2021-02-27</td>\n",
       "    </tr>\n",
       "    <tr>\n",
       "      <th>398931</th>\n",
       "      <td>FORCE</td>\n",
       "      <td>18/02/21</td>\n",
       "      <td>43142d6933d9c0a411acdf2ad5eb5ac77735d5554fe406...</td>\n",
       "      <td>android</td>\n",
       "      <td>2021-02-18</td>\n",
       "    </tr>\n",
       "    <tr>\n",
       "      <th>398932</th>\n",
       "      <td>OTHER</td>\n",
       "      <td>09/03/21</td>\n",
       "      <td>0fccb2be58f3d969d4009cd729f686e39499fe47ba00d7...</td>\n",
       "      <td>android</td>\n",
       "      <td>2021-03-09</td>\n",
       "    </tr>\n",
       "    <tr>\n",
       "      <th>398933</th>\n",
       "      <td>OTHER</td>\n",
       "      <td>05/03/21</td>\n",
       "      <td>0fccb2be58f3d969d4009cd729f686e39499fe47ba00d7...</td>\n",
       "      <td>android</td>\n",
       "      <td>2021-03-05</td>\n",
       "    </tr>\n",
       "  </tbody>\n",
       "</table>\n",
       "<p>398934 rows × 5 columns</p>\n",
       "</div>"
      ],
      "text/plain": [
       "       exp_group        dt                                          device_id  \\\n",
       "0            ASK  02/03/21  67974bec4b4c2dd2e5294b5208098fbe843026f7f6b2c4...   \n",
       "1          OTHER  10/03/21  c4f890ef079ae647c67a00da6a7f5bb49e91ab531d18da...   \n",
       "2          OTHER  08/03/21  c4f890ef079ae647c67a00da6a7f5bb49e91ab531d18da...   \n",
       "3          OTHER  13/03/21  a3bfce93eceb1e564bbbe4a6c64509e2836573396ab51f...   \n",
       "4          OTHER  14/03/21  761a1b1eae1361cb80e5b572baccd46f7439a37140f4d8...   \n",
       "...          ...       ...                                                ...   \n",
       "398929     OTHER  20/02/21  c70b1338542dcdd2686bd95e3a7de4251a0b8bfef92b2c...   \n",
       "398930     OTHER  27/02/21  04fed97f7ed72d11640455a645261cc24b6de3a89d8072...   \n",
       "398931     FORCE  18/02/21  43142d6933d9c0a411acdf2ad5eb5ac77735d5554fe406...   \n",
       "398932     OTHER  09/03/21  0fccb2be58f3d969d4009cd729f686e39499fe47ba00d7...   \n",
       "398933     OTHER  05/03/21  0fccb2be58f3d969d4009cd729f686e39499fe47ba00d7...   \n",
       "\n",
       "       platform       date  \n",
       "0       android 2021-03-02  \n",
       "1       android 2021-03-10  \n",
       "2       android 2021-03-08  \n",
       "3       android 2021-03-13  \n",
       "4       android 2021-03-14  \n",
       "...         ...        ...  \n",
       "398929  android 2021-02-20  \n",
       "398930  android 2021-02-27  \n",
       "398931  android 2021-02-18  \n",
       "398932  android 2021-03-09  \n",
       "398933  android 2021-03-05  \n",
       "\n",
       "[398934 rows x 5 columns]"
      ]
     },
     "execution_count": 5,
     "metadata": {},
     "output_type": "execute_result"
    }
   ],
   "source": [
    "df"
   ]
  },
  {
   "cell_type": "markdown",
   "metadata": {},
   "source": [
    "# Дальше нам пригодятся когорты\n",
    "\n",
    "Посчитаем первую дату захода на сервис (Дата когорты - дата первого захода пользователя на сервис в нашем интервале)"
   ]
  },
  {
   "cell_type": "code",
   "execution_count": 6,
   "metadata": {},
   "outputs": [],
   "source": [
    "min_date = df[['device_id','date']].groupby('device_id').min().reset_index()"
   ]
  },
  {
   "cell_type": "code",
   "execution_count": 7,
   "metadata": {},
   "outputs": [
    {
     "data": {
      "text/html": [
       "<div>\n",
       "<style scoped>\n",
       "    .dataframe tbody tr th:only-of-type {\n",
       "        vertical-align: middle;\n",
       "    }\n",
       "\n",
       "    .dataframe tbody tr th {\n",
       "        vertical-align: top;\n",
       "    }\n",
       "\n",
       "    .dataframe thead th {\n",
       "        text-align: right;\n",
       "    }\n",
       "</style>\n",
       "<table border=\"1\" class=\"dataframe\">\n",
       "  <thead>\n",
       "    <tr style=\"text-align: right;\">\n",
       "      <th></th>\n",
       "      <th>device_id</th>\n",
       "      <th>date</th>\n",
       "    </tr>\n",
       "  </thead>\n",
       "  <tbody>\n",
       "    <tr>\n",
       "      <th>0</th>\n",
       "      <td>0000284750cfd6a08fa51baa0b3cc3dcecf9d6d39b9672...</td>\n",
       "      <td>2021-03-01</td>\n",
       "    </tr>\n",
       "    <tr>\n",
       "      <th>1</th>\n",
       "      <td>000055d50fa9455b2994def0c44d443096cc2955d91a5a...</td>\n",
       "      <td>2021-02-27</td>\n",
       "    </tr>\n",
       "    <tr>\n",
       "      <th>2</th>\n",
       "      <td>0000ce3afcf67a2b8d95c05639bd8b618f032d42eab5d9...</td>\n",
       "      <td>2021-03-10</td>\n",
       "    </tr>\n",
       "    <tr>\n",
       "      <th>3</th>\n",
       "      <td>0001587cdfd30032ccf588ec5295258e0f71185c9512e8...</td>\n",
       "      <td>2021-03-10</td>\n",
       "    </tr>\n",
       "    <tr>\n",
       "      <th>4</th>\n",
       "      <td>000160de23933144d041c9b963dadfd812b266a84b3871...</td>\n",
       "      <td>2021-03-15</td>\n",
       "    </tr>\n",
       "    <tr>\n",
       "      <th>...</th>\n",
       "      <td>...</td>\n",
       "      <td>...</td>\n",
       "    </tr>\n",
       "    <tr>\n",
       "      <th>199181</th>\n",
       "      <td>fffe64b77a699a38ca28f04d937c02d99abd29805ebc1c...</td>\n",
       "      <td>2021-02-20</td>\n",
       "    </tr>\n",
       "    <tr>\n",
       "      <th>199182</th>\n",
       "      <td>ffff086e9983b130e622b17f727562455e6d5a95feabab...</td>\n",
       "      <td>2021-03-04</td>\n",
       "    </tr>\n",
       "    <tr>\n",
       "      <th>199183</th>\n",
       "      <td>ffff11b82e8251d8c501ff6b1f389abca166c7fcb8947a...</td>\n",
       "      <td>2021-03-11</td>\n",
       "    </tr>\n",
       "    <tr>\n",
       "      <th>199184</th>\n",
       "      <td>ffff3a1a0d91b09ec2b26ad5f8f70cd86fe1c0edfaee53...</td>\n",
       "      <td>2021-02-24</td>\n",
       "    </tr>\n",
       "    <tr>\n",
       "      <th>199185</th>\n",
       "      <td>ffff6a0c60ca53076f0d4b5764d69105757ddf8d70c08a...</td>\n",
       "      <td>2021-02-19</td>\n",
       "    </tr>\n",
       "  </tbody>\n",
       "</table>\n",
       "<p>199186 rows × 2 columns</p>\n",
       "</div>"
      ],
      "text/plain": [
       "                                                device_id       date\n",
       "0       0000284750cfd6a08fa51baa0b3cc3dcecf9d6d39b9672... 2021-03-01\n",
       "1       000055d50fa9455b2994def0c44d443096cc2955d91a5a... 2021-02-27\n",
       "2       0000ce3afcf67a2b8d95c05639bd8b618f032d42eab5d9... 2021-03-10\n",
       "3       0001587cdfd30032ccf588ec5295258e0f71185c9512e8... 2021-03-10\n",
       "4       000160de23933144d041c9b963dadfd812b266a84b3871... 2021-03-15\n",
       "...                                                   ...        ...\n",
       "199181  fffe64b77a699a38ca28f04d937c02d99abd29805ebc1c... 2021-02-20\n",
       "199182  ffff086e9983b130e622b17f727562455e6d5a95feabab... 2021-03-04\n",
       "199183  ffff11b82e8251d8c501ff6b1f389abca166c7fcb8947a... 2021-03-11\n",
       "199184  ffff3a1a0d91b09ec2b26ad5f8f70cd86fe1c0edfaee53... 2021-02-24\n",
       "199185  ffff6a0c60ca53076f0d4b5764d69105757ddf8d70c08a... 2021-02-19\n",
       "\n",
       "[199186 rows x 2 columns]"
      ]
     },
     "execution_count": 7,
     "metadata": {},
     "output_type": "execute_result"
    }
   ],
   "source": [
    "min_date"
   ]
  },
  {
   "cell_type": "markdown",
   "metadata": {},
   "source": [
    "# Приджойним эту дату обратно в наш df"
   ]
  },
  {
   "cell_type": "code",
   "execution_count": 8,
   "metadata": {},
   "outputs": [],
   "source": [
    "df = df.merge(min_date, how='left', on = 'device_id', suffixes=('', '_cohort'))"
   ]
  },
  {
   "cell_type": "code",
   "execution_count": 9,
   "metadata": {},
   "outputs": [
    {
     "data": {
      "text/html": [
       "<div>\n",
       "<style scoped>\n",
       "    .dataframe tbody tr th:only-of-type {\n",
       "        vertical-align: middle;\n",
       "    }\n",
       "\n",
       "    .dataframe tbody tr th {\n",
       "        vertical-align: top;\n",
       "    }\n",
       "\n",
       "    .dataframe thead th {\n",
       "        text-align: right;\n",
       "    }\n",
       "</style>\n",
       "<table border=\"1\" class=\"dataframe\">\n",
       "  <thead>\n",
       "    <tr style=\"text-align: right;\">\n",
       "      <th></th>\n",
       "      <th>exp_group</th>\n",
       "      <th>dt</th>\n",
       "      <th>device_id</th>\n",
       "      <th>platform</th>\n",
       "      <th>date</th>\n",
       "      <th>date_cohort</th>\n",
       "    </tr>\n",
       "  </thead>\n",
       "  <tbody>\n",
       "    <tr>\n",
       "      <th>0</th>\n",
       "      <td>ASK</td>\n",
       "      <td>02/03/21</td>\n",
       "      <td>67974bec4b4c2dd2e5294b5208098fbe843026f7f6b2c4...</td>\n",
       "      <td>android</td>\n",
       "      <td>2021-03-02</td>\n",
       "      <td>2021-03-02</td>\n",
       "    </tr>\n",
       "    <tr>\n",
       "      <th>1</th>\n",
       "      <td>OTHER</td>\n",
       "      <td>10/03/21</td>\n",
       "      <td>c4f890ef079ae647c67a00da6a7f5bb49e91ab531d18da...</td>\n",
       "      <td>android</td>\n",
       "      <td>2021-03-10</td>\n",
       "      <td>2021-03-08</td>\n",
       "    </tr>\n",
       "    <tr>\n",
       "      <th>2</th>\n",
       "      <td>OTHER</td>\n",
       "      <td>08/03/21</td>\n",
       "      <td>c4f890ef079ae647c67a00da6a7f5bb49e91ab531d18da...</td>\n",
       "      <td>android</td>\n",
       "      <td>2021-03-08</td>\n",
       "      <td>2021-03-08</td>\n",
       "    </tr>\n",
       "    <tr>\n",
       "      <th>3</th>\n",
       "      <td>OTHER</td>\n",
       "      <td>13/03/21</td>\n",
       "      <td>a3bfce93eceb1e564bbbe4a6c64509e2836573396ab51f...</td>\n",
       "      <td>android</td>\n",
       "      <td>2021-03-13</td>\n",
       "      <td>2021-03-13</td>\n",
       "    </tr>\n",
       "    <tr>\n",
       "      <th>4</th>\n",
       "      <td>OTHER</td>\n",
       "      <td>14/03/21</td>\n",
       "      <td>761a1b1eae1361cb80e5b572baccd46f7439a37140f4d8...</td>\n",
       "      <td>android</td>\n",
       "      <td>2021-03-14</td>\n",
       "      <td>2021-03-10</td>\n",
       "    </tr>\n",
       "  </tbody>\n",
       "</table>\n",
       "</div>"
      ],
      "text/plain": [
       "  exp_group        dt                                          device_id  \\\n",
       "0       ASK  02/03/21  67974bec4b4c2dd2e5294b5208098fbe843026f7f6b2c4...   \n",
       "1     OTHER  10/03/21  c4f890ef079ae647c67a00da6a7f5bb49e91ab531d18da...   \n",
       "2     OTHER  08/03/21  c4f890ef079ae647c67a00da6a7f5bb49e91ab531d18da...   \n",
       "3     OTHER  13/03/21  a3bfce93eceb1e564bbbe4a6c64509e2836573396ab51f...   \n",
       "4     OTHER  14/03/21  761a1b1eae1361cb80e5b572baccd46f7439a37140f4d8...   \n",
       "\n",
       "  platform       date date_cohort  \n",
       "0  android 2021-03-02  2021-03-02  \n",
       "1  android 2021-03-10  2021-03-08  \n",
       "2  android 2021-03-08  2021-03-08  \n",
       "3  android 2021-03-13  2021-03-13  \n",
       "4  android 2021-03-14  2021-03-10  "
      ]
     },
     "execution_count": 9,
     "metadata": {},
     "output_type": "execute_result"
    }
   ],
   "source": [
    "df.head()"
   ]
  },
  {
   "cell_type": "markdown",
   "metadata": {},
   "source": [
    "# Проверим, что все как надо"
   ]
  },
  {
   "cell_type": "code",
   "execution_count": 46,
   "metadata": {},
   "outputs": [],
   "source": [
    "import pandasql as ps"
   ]
  },
  {
   "cell_type": "code",
   "execution_count": 20,
   "metadata": {},
   "outputs": [
    {
     "data": {
      "text/html": [
       "<div>\n",
       "<style scoped>\n",
       "    .dataframe tbody tr th:only-of-type {\n",
       "        vertical-align: middle;\n",
       "    }\n",
       "\n",
       "    .dataframe tbody tr th {\n",
       "        vertical-align: top;\n",
       "    }\n",
       "\n",
       "    .dataframe thead th {\n",
       "        text-align: right;\n",
       "    }\n",
       "</style>\n",
       "<table border=\"1\" class=\"dataframe\">\n",
       "  <thead>\n",
       "    <tr style=\"text-align: right;\">\n",
       "      <th></th>\n",
       "      <th>device_id</th>\n",
       "      <th>date_cohort</th>\n",
       "      <th>platform</th>\n",
       "      <th>min_dt</th>\n",
       "    </tr>\n",
       "  </thead>\n",
       "  <tbody>\n",
       "  </tbody>\n",
       "</table>\n",
       "</div>"
      ],
      "text/plain": [
       "Empty DataFrame\n",
       "Columns: [device_id, date_cohort, platform, min_dt]\n",
       "Index: []"
      ]
     },
     "execution_count": 20,
     "metadata": {},
     "output_type": "execute_result"
    }
   ],
   "source": [
    "query = \"\"\"\n",
    "select device_id, date_cohort,platform, min(date) as min_dt\n",
    "from df \n",
    "group by device_id, date_cohort\n",
    "having min(date)!=date_cohort\n",
    "\"\"\"\n",
    "\n",
    "tst = ps.sqldf(query, locals())\n",
    "tst"
   ]
  },
  {
   "cell_type": "markdown",
   "metadata": {},
   "source": [
    "# Народ по когортам (надо что-то спросить по графикам)"
   ]
  },
  {
   "cell_type": "code",
   "execution_count": 21,
   "metadata": {},
   "outputs": [
    {
     "data": {
      "text/html": [
       "<div>\n",
       "<style scoped>\n",
       "    .dataframe tbody tr th:only-of-type {\n",
       "        vertical-align: middle;\n",
       "    }\n",
       "\n",
       "    .dataframe tbody tr th {\n",
       "        vertical-align: top;\n",
       "    }\n",
       "\n",
       "    .dataframe thead th {\n",
       "        text-align: right;\n",
       "    }\n",
       "</style>\n",
       "<table border=\"1\" class=\"dataframe\">\n",
       "  <thead>\n",
       "    <tr style=\"text-align: right;\">\n",
       "      <th></th>\n",
       "      <th>date_cohort</th>\n",
       "      <th>exp_group</th>\n",
       "      <th>platform</th>\n",
       "      <th>devices</th>\n",
       "    </tr>\n",
       "  </thead>\n",
       "  <tbody>\n",
       "    <tr>\n",
       "      <th>0</th>\n",
       "      <td>2021-02-16 00:00:00.000000</td>\n",
       "      <td>ASK</td>\n",
       "      <td>android</td>\n",
       "      <td>1245</td>\n",
       "    </tr>\n",
       "    <tr>\n",
       "      <th>1</th>\n",
       "      <td>2021-02-17 00:00:00.000000</td>\n",
       "      <td>ASK</td>\n",
       "      <td>android</td>\n",
       "      <td>1329</td>\n",
       "    </tr>\n",
       "    <tr>\n",
       "      <th>2</th>\n",
       "      <td>2021-02-18 00:00:00.000000</td>\n",
       "      <td>ASK</td>\n",
       "      <td>android</td>\n",
       "      <td>1189</td>\n",
       "    </tr>\n",
       "    <tr>\n",
       "      <th>3</th>\n",
       "      <td>2021-02-19 00:00:00.000000</td>\n",
       "      <td>ASK</td>\n",
       "      <td>android</td>\n",
       "      <td>1203</td>\n",
       "    </tr>\n",
       "    <tr>\n",
       "      <th>4</th>\n",
       "      <td>2021-02-20 00:00:00.000000</td>\n",
       "      <td>ASK</td>\n",
       "      <td>android</td>\n",
       "      <td>1378</td>\n",
       "    </tr>\n",
       "    <tr>\n",
       "      <th>...</th>\n",
       "      <td>...</td>\n",
       "      <td>...</td>\n",
       "      <td>...</td>\n",
       "      <td>...</td>\n",
       "    </tr>\n",
       "    <tr>\n",
       "      <th>79</th>\n",
       "      <td>2021-03-11 00:00:00.000000</td>\n",
       "      <td>OTHER</td>\n",
       "      <td>android</td>\n",
       "      <td>3676</td>\n",
       "    </tr>\n",
       "    <tr>\n",
       "      <th>80</th>\n",
       "      <td>2021-03-12 00:00:00.000000</td>\n",
       "      <td>OTHER</td>\n",
       "      <td>android</td>\n",
       "      <td>4120</td>\n",
       "    </tr>\n",
       "    <tr>\n",
       "      <th>81</th>\n",
       "      <td>2021-03-13 00:00:00.000000</td>\n",
       "      <td>OTHER</td>\n",
       "      <td>android</td>\n",
       "      <td>4760</td>\n",
       "    </tr>\n",
       "    <tr>\n",
       "      <th>82</th>\n",
       "      <td>2021-03-14 00:00:00.000000</td>\n",
       "      <td>OTHER</td>\n",
       "      <td>android</td>\n",
       "      <td>5050</td>\n",
       "    </tr>\n",
       "    <tr>\n",
       "      <th>83</th>\n",
       "      <td>2021-03-15 00:00:00.000000</td>\n",
       "      <td>OTHER</td>\n",
       "      <td>android</td>\n",
       "      <td>4336</td>\n",
       "    </tr>\n",
       "  </tbody>\n",
       "</table>\n",
       "<p>84 rows × 4 columns</p>\n",
       "</div>"
      ],
      "text/plain": [
       "                   date_cohort exp_group platform  devices\n",
       "0   2021-02-16 00:00:00.000000       ASK  android     1245\n",
       "1   2021-02-17 00:00:00.000000       ASK  android     1329\n",
       "2   2021-02-18 00:00:00.000000       ASK  android     1189\n",
       "3   2021-02-19 00:00:00.000000       ASK  android     1203\n",
       "4   2021-02-20 00:00:00.000000       ASK  android     1378\n",
       "..                         ...       ...      ...      ...\n",
       "79  2021-03-11 00:00:00.000000     OTHER  android     3676\n",
       "80  2021-03-12 00:00:00.000000     OTHER  android     4120\n",
       "81  2021-03-13 00:00:00.000000     OTHER  android     4760\n",
       "82  2021-03-14 00:00:00.000000     OTHER  android     5050\n",
       "83  2021-03-15 00:00:00.000000     OTHER  android     4336\n",
       "\n",
       "[84 rows x 4 columns]"
      ]
     },
     "execution_count": 21,
     "metadata": {},
     "output_type": "execute_result"
    }
   ],
   "source": [
    "query = \"\"\"\n",
    "select date_cohort,exp_group,platform, count(distinct device_id) as devices\n",
    "from df \n",
    "where platform = 'android'\n",
    "group by date_cohort, platform, exp_group\n",
    "order by platform,exp_group, cast(date_cohort as datetime)\n",
    "\"\"\"\n",
    "\n",
    "tst = ps.sqldf(query, locals())\n",
    "tst"
   ]
  },
  {
   "cell_type": "code",
   "execution_count": 22,
   "metadata": {},
   "outputs": [],
   "source": [
    "tst['date_cohort'] = tst['date_cohort'].apply(lambda x: x[:10])"
   ]
  },
  {
   "cell_type": "code",
   "execution_count": 23,
   "metadata": {},
   "outputs": [
    {
     "data": {
      "text/plain": [
       "exp_group\n",
       "ASK      AxesSubplot(0.125,0.125;0.775x0.755)\n",
       "FORCE    AxesSubplot(0.125,0.125;0.775x0.755)\n",
       "OTHER    AxesSubplot(0.125,0.125;0.775x0.755)\n",
       "Name: devices, dtype: object"
      ]
     },
     "execution_count": 23,
     "metadata": {},
     "output_type": "execute_result"
    },
    {
     "data": {
      "image/png": "[encoded data removed]",
      "text/plain": [
       "<Figure size 432x288 with 1 Axes>"
      ]
     },
     "metadata": {
      "needs_background": "light"
     },
     "output_type": "display_data"
    }
   ],
   "source": [
    "# tst.plot(x='cohort',y = 'devices')\n",
    "tst.set_index(\"date_cohort\", inplace=True)\n",
    "tst.groupby(\"exp_group\")[\"devices\"].plot(legend=True)"
   ]
  },
  {
   "cell_type": "markdown",
   "metadata": {},
   "source": [
    "# Вопрос 1\n",
    "\n",
    "Сколько в среднем в день на платформе Андроид приходит новых пользователей в каждой из групп? \n",
    "\n",
    "В ответ ожидается csv-файл c двумя колонками:\n",
    "\n",
    "**exp_group** и **avg_users**\n",
    "\n",
    "Название группы.  Число новых пользователей\n",
    "\n",
    "В **avg_users** запишите среднее значение, округленное до двух знаков после запятой."
   ]
  },
  {
   "cell_type": "code",
   "execution_count": null,
   "metadata": {},
   "outputs": [],
   "source": []
  },
  {
   "cell_type": "markdown",
   "metadata": {},
   "source": [
    "# Вопрос 2\n",
    "\n",
    "В какой день на платформе iOS пришло наибольшее кол-во пользователей из группы ASK (считать всех, не только новых)? \n",
    "\n",
    "В ответ ожидается csv-файл c двумя колонками:\n",
    "\n",
    "**exp_group** и **max_date**\n",
    "\n",
    "Название группы.  Дата\n",
    "\n",
    "В **max_date** запишите дату в формате строки год-месяц-день. Например 2020-12-01"
   ]
  },
  {
   "cell_type": "code",
   "execution_count": null,
   "metadata": {},
   "outputs": [],
   "source": []
  },
  {
   "cell_type": "markdown",
   "metadata": {},
   "source": [
    "# Вопрос 3\n",
    "\n",
    "Какой процент пользователей на платформе Android в каждой из групп вернулся на третий день после своего первого визита? \n",
    "\n",
    "Эта величина называется обычно возвращемостью третьего дня или Retention 3-го дня \n",
    "\n",
    "## КАК ЭТО ПОСЧИТАТЬ (например)\n",
    "\n",
    "* Отбираете из df только ПЕРВЫЕ их визиты сохраняете в df_initial\n",
    "* Отбираете из df только визиты, которые произошли НА ТРЕТИЙ день после первого. Например для каждого device_id посчитайте first_visit_date и выберите такие визиты, для которых date - first_visit_date будет равно трем дням. Назовем это df_third\n",
    "* Присоединяете к df_initial данные из df_third c помощью операции merge в стиле \"left join\". \n",
    "* Считаете всех пользователей по группам, которые пришли до 12 марта (назовем это group_size)\n",
    "* Считаете всех пользователей по группам, которые вернулись на третий день после 1 визита (назовем это cameback_3d)\n",
    "* Для каждой группы считаем cameback_3d/group_size. Это и есть retention\n",
    "\n",
    "[Про типы merge](https://www.shanelynn.ie/merge-join-dataframes-python-pandas-index-1/)\n",
    "\n",
    "Последняя дата из df_initial которую нужно учитывать в расчете retention 3 дня - 12 марта (потому что последняя дата - 15ое)\n",
    "\n",
    "\n",
    "В ответ ожидается dataframe c двумя колонками:\n",
    "\n",
    "**exp_group** и **retention**\n",
    "\n",
    "Название группы.  Доля вернувшихся\n",
    "\n",
    "Ответ округлить до двух знаков после запятой\n",
    "\n",
    "Пример:\n",
    "\n",
    "    exp_group        retention\n",
    "\n",
    "    ASK              0.11\n",
    "\n"
   ]
  },
  {
   "cell_type": "code",
   "execution_count": 33,
   "metadata": {},
   "outputs": [],
   "source": []
  },
  {
   "cell_type": "markdown",
   "metadata": {},
   "source": [
    "# Вопрос 4\n",
    "\n",
    "Давайте попробуем понять, сколько в каждом месяце было уникальных клиентов, которым решили отправлять PUSH уведомления. Введите в ответ численное значение"
   ]
  },
  {
   "cell_type": "code",
   "execution_count": null,
   "metadata": {},
   "outputs": [],
   "source": []
  },
  {
   "cell_type": "markdown",
   "metadata": {},
   "source": [
    "# Задания 5\n",
    "\n",
    "Введите ID пользователя, который дольше всего был активен в приложении (максимальное значение по времени между первой датой и последней датой). Если встречается несколько таких пользователей, в ответ введите первый ID согласно лексикографической сортировке."
   ]
  },
  {
   "cell_type": "code",
   "execution_count": null,
   "metadata": {},
   "outputs": [],
   "source": []
  },
  {
   "cell_type": "markdown",
   "metadata": {},
   "source": [
    "# Задание 7\n",
    "\n",
    "Постройте график распределения визитов пользователей по неделям (подсмотрите в описании библиотеки datetime, как достать из даты номер недели). В ответ введите номер недели, когда в среднем за день недели пользователей с платформы Android было минимальное количество (количество пользователей за неделю делить на количество дней в этой неделе). Заметьте, что внутри теста может быть, например, неделя из четырех дней (если тест запустился в четверг)."
   ]
  },
  {
   "cell_type": "code",
   "execution_count": null,
   "metadata": {},
   "outputs": [],
   "source": []
  },
  {
   "cell_type": "code",
   "execution_count": null,
   "metadata": {},
   "outputs": [],
   "source": []
  },
  {
   "cell_type": "markdown",
   "metadata": {},
   "source": [
    "# Задание 8\n",
    "\n",
    "Вычислите, какое количество пользователей из группы FORCE (из нашего датасета) больше не заходило в наше приложение после первого визита. В ответ запишите долю таких пользователей от всех пользователей нашего приложения (из нашего датасета)."
   ]
  },
  {
   "cell_type": "code",
   "execution_count": null,
   "metadata": {},
   "outputs": [],
   "source": []
  },
  {
   "cell_type": "code",
   "execution_count": 36,
   "metadata": {},
   "outputs": [
    {
     "data": {
      "text/plain": [
       "0.588952034781561"
      ]
     },
     "execution_count": 36,
     "metadata": {},
     "output_type": "execute_result"
    }
   ],
   "source": [
    "tt = df[['device_id','diff']].groupby('device_id').max().reset_index()\n",
    "117311/len(df['device_id'].unique())\n",
    "# tt[tt['diff']==0].shape[0]/total"
   ]
  },
  {
   "cell_type": "markdown",
   "metadata": {},
   "source": [
    "# Задание 9\n",
    "Главный вопрос - а предлагать ли пользователям подписываться или нет. Рассчитайте доли пользователей которые заходили в приложение более трех раз после инициализации. В ответ запишите группу, в которой эта доля оказалась наибольшей."
   ]
  },
  {
   "cell_type": "code",
   "execution_count": 26,
   "metadata": {},
   "outputs": [
    {
     "data": {
      "text/html": [
       "<div>\n",
       "<style scoped>\n",
       "    .dataframe tbody tr th:only-of-type {\n",
       "        vertical-align: middle;\n",
       "    }\n",
       "\n",
       "    .dataframe tbody tr th {\n",
       "        vertical-align: top;\n",
       "    }\n",
       "\n",
       "    .dataframe thead th {\n",
       "        text-align: right;\n",
       "    }\n",
       "</style>\n",
       "<table border=\"1\" class=\"dataframe\">\n",
       "  <thead>\n",
       "    <tr style=\"text-align: right;\">\n",
       "      <th></th>\n",
       "      <th>exp_group</th>\n",
       "      <th>group_size</th>\n",
       "      <th>more_than_three</th>\n",
       "    </tr>\n",
       "  </thead>\n",
       "  <tbody>\n",
       "    <tr>\n",
       "      <th>0</th>\n",
       "      <td>ASK</td>\n",
       "      <td>39723</td>\n",
       "      <td>4996</td>\n",
       "    </tr>\n",
       "    <tr>\n",
       "      <th>1</th>\n",
       "      <td>FORCE</td>\n",
       "      <td>40119</td>\n",
       "      <td>5590</td>\n",
       "    </tr>\n",
       "    <tr>\n",
       "      <th>2</th>\n",
       "      <td>OTHER</td>\n",
       "      <td>119344</td>\n",
       "      <td>15135</td>\n",
       "    </tr>\n",
       "  </tbody>\n",
       "</table>\n",
       "</div>"
      ],
      "text/plain": [
       "  exp_group  group_size  more_than_three\n",
       "0       ASK       39723             4996\n",
       "1     FORCE       40119             5590\n",
       "2     OTHER      119344            15135"
      ]
     },
     "execution_count": 26,
     "metadata": {},
     "output_type": "execute_result"
    }
   ],
   "source": [
    "query = \"\"\"\n",
    "    select exp_group, \n",
    "        count(distinct device_id) as group_size,\n",
    "        count(distinct device_new_visit) as more_than_three\n",
    "    from (\n",
    "        select exp_group, device_id,\n",
    "            case when count()  > 3 then device_id else null end as device_new_visit\n",
    "        from df \n",
    "        group by exp_group, device_id\n",
    "        )\n",
    "    group by exp_group\n",
    "\"\"\"\n",
    "\n",
    "tst = ps.sqldf(query, locals())\n",
    "tst"
   ]
  },
  {
   "cell_type": "code",
   "execution_count": 27,
   "metadata": {},
   "outputs": [
    {
     "data": {
      "text/html": [
       "<div>\n",
       "<style scoped>\n",
       "    .dataframe tbody tr th:only-of-type {\n",
       "        vertical-align: middle;\n",
       "    }\n",
       "\n",
       "    .dataframe tbody tr th {\n",
       "        vertical-align: top;\n",
       "    }\n",
       "\n",
       "    .dataframe thead th {\n",
       "        text-align: right;\n",
       "    }\n",
       "</style>\n",
       "<table border=\"1\" class=\"dataframe\">\n",
       "  <thead>\n",
       "    <tr style=\"text-align: right;\">\n",
       "      <th></th>\n",
       "      <th>exp_group</th>\n",
       "      <th>group_size</th>\n",
       "      <th>more_than_three</th>\n",
       "      <th>frequent_visitors</th>\n",
       "    </tr>\n",
       "  </thead>\n",
       "  <tbody>\n",
       "    <tr>\n",
       "      <th>0</th>\n",
       "      <td>ASK</td>\n",
       "      <td>39723</td>\n",
       "      <td>4996</td>\n",
       "      <td>0.125771</td>\n",
       "    </tr>\n",
       "    <tr>\n",
       "      <th>1</th>\n",
       "      <td>FORCE</td>\n",
       "      <td>40119</td>\n",
       "      <td>5590</td>\n",
       "      <td>0.139335</td>\n",
       "    </tr>\n",
       "    <tr>\n",
       "      <th>2</th>\n",
       "      <td>OTHER</td>\n",
       "      <td>119344</td>\n",
       "      <td>15135</td>\n",
       "      <td>0.126818</td>\n",
       "    </tr>\n",
       "  </tbody>\n",
       "</table>\n",
       "</div>"
      ],
      "text/plain": [
       "  exp_group  group_size  more_than_three  frequent_visitors\n",
       "0       ASK       39723             4996           0.125771\n",
       "1     FORCE       40119             5590           0.139335\n",
       "2     OTHER      119344            15135           0.126818"
      ]
     },
     "execution_count": 27,
     "metadata": {},
     "output_type": "execute_result"
    }
   ],
   "source": [
    "tst['frequent_visitors'] = tst['more_than_three']/tst['group_size']\n",
    "tst"
   ]
  },
  {
   "cell_type": "code",
   "execution_count": null,
   "metadata": {},
   "outputs": [],
   "source": []
  }
 ],
 "metadata": {
  "kernelspec": {
   "display_name": "Python 3",
   "language": "python",
   "name": "python3"
  },
  "language_info": {
   "codemirror_mode": {
    "name": "ipython",
    "version": 3
   },
   "file_extension": ".py",
   "mimetype": "text/x-python",
   "name": "python",
   "nbconvert_exporter": "python",
   "pygments_lexer": "ipython3",
   "version": "3.8.3"
  }
 },
 "nbformat": 4,
 "nbformat_minor": 4
}
