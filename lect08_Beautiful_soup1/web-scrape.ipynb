{
 "cells": [
  {
   "cell_type": "markdown",
   "metadata": {},
   "source": [
    "# Python для анализа данных\n",
    "\n",
    "*Алла Тамбовцева, НИУ ВШЭ*"
   ]
  },
  {
   "cell_type": "markdown",
   "metadata": {},
   "source": [
    "## Web-scraping\n",
    "\n",
    "Мы уже немного познакомились со структурой html-файлов, теперь попробуем выгрузить информацию из реальной страницы, а точнее, с реального сайта [nplus1.ru](https://nplus1.ru/).\n",
    "\n",
    "**Наша задача:** выгрузить недавние новости в датафрейм `pandas`, чтобы потом сохранить все в csv-файл.\n",
    "\n",
    "Сначала сгрузим весь html-код страницы и сохраним его в отдельную переменную. Для этого нам понадобится библиотека `requests`. Импортируем её:"
   ]
  },
  {
   "cell_type": "code",
   "execution_count": 24,
   "metadata": {},
   "outputs": [],
   "source": [
    "import requests"
   ]
  },
  {
   "cell_type": "markdown",
   "metadata": {},
   "source": [
    "Сохраним ссылку на главную страницу сайта в переменную `url` для удобства и выгрузим страницу. (Разумеется, это будет работать при подключении к интернету. Если соединение будет отключено, Python выдаст `NewConnectionError`)."
   ]
  },
  {
   "cell_type": "code",
   "execution_count": 25,
   "metadata": {},
   "outputs": [],
   "source": [
    "url = 'https://nplus1.ru/' # сохраняем\n",
    "page = requests.get(url, ) # загружаем страницу по ссылке"
   ]
  },
  {
   "cell_type": "markdown",
   "metadata": {},
   "source": [
    "Если мы просто посмотрим на объект, мы ничего особенного не увидим:"
   ]
  },
  {
   "cell_type": "code",
   "execution_count": 26,
   "metadata": {},
   "outputs": [
    {
     "data": {
      "text/plain": [
       "<Response [200]>"
      ]
     },
     "execution_count": 26,
     "metadata": {},
     "output_type": "execute_result"
    }
   ],
   "source": [
    "page  # response 200 - страница загружена"
   ]
  },
  {
   "cell_type": "markdown",
   "metadata": {},
   "source": [
    "Импортируем функцию `BeautifulSoup` из библиотеки `bs4` (от *beautifulsoup4*) и заберём со страницы `page` код html в виде текста. "
   ]
  },
  {
   "cell_type": "code",
   "execution_count": 27,
   "metadata": {},
   "outputs": [],
   "source": [
    "from bs4 import BeautifulSoup  # не спрашивайте, почему BeautifulSoup"
   ]
  },
  {
   "cell_type": "code",
   "execution_count": 28,
   "metadata": {},
   "outputs": [],
   "source": [
    "soup = BeautifulSoup(page.text, 'lxml')"
   ]
  },
  {
   "cell_type": "markdown",
   "metadata": {},
   "source": [
    "Если выведем `soup` на экран, мы увидим то же самое, что в режиме разработчика или в режиме происмотра исходного кода (`view-source` через *Ctrl+U* в Google Chrome)."
   ]
  },
  {
   "cell_type": "code",
   "execution_count": null,
   "metadata": {},
   "outputs": [],
   "source": [
    "soup"
   ]
  },
  {
   "cell_type": "markdown",
   "metadata": {},
   "source": [
    "Для просмотра выглядит не очень удобно.  «Причешем» наш `soup` – воспользуемся методом `.prettify()` в сочетании с функцией `print()`."
   ]
  },
  {
   "cell_type": "code",
   "execution_count": null,
   "metadata": {},
   "outputs": [],
   "source": [
    "print(soup.prettify())"
   ]
  },
  {
   "cell_type": "markdown",
   "metadata": {},
   "source": [
    "В такой выдаче ориентироваться гораздо удобнее (но при желании, то же можно увидеть в браузере, на большом экране)."
   ]
  },
  {
   "cell_type": "markdown",
   "metadata": {},
   "source": [
    "Чтобы сгрузить все новости с главной страницы сайта, нужно собрать все ссылки на страницы с этими новостями. Ссылки в html-файле всегда заключены в тэг `<a></a>` и имеют атрибут `href`. Посмотрим на кусочки кода, соответствующие всем ссылкам на главной странице сайта:"
   ]
  },
  {
   "cell_type": "code",
   "execution_count": 29,
   "metadata": {
    "scrolled": false
   },
   "outputs": [
    {
     "name": "stdout",
     "output_type": "stream",
     "text": [
      "#\n",
      "/\n",
      "#\n",
      "#\n",
      "/rubric/astronomy\n",
      "/rubric/physics\n",
      "/rubric/biology\n",
      "/rubric/robots-drones\n",
      "/theme/bookshelf\n",
      "/theme/Courses\n",
      "/theme/coronavirus-history\n",
      "/theme/offline\n",
      "/\n",
      "#\n",
      "/rubric/astronomy\n",
      "/rubric/physics\n",
      "/rubric/biology\n",
      "/rubric/robots-drones\n",
      "#\n",
      "/theme/bookshelf\n",
      "/theme/Courses\n",
      "/theme/coronavirus-history\n",
      "/theme/offline\n",
      "https://nplus1.ru/blog/2022/03/16/what-does-rain-smell-like\n",
      "https://nplus1.ru/blog/2022/03/16/what-does-rain-smell-like\n",
      "https://nplus1.ru/blog/2022/03/14/geneweap\n",
      "https://nplus1.ru/blog/2022/03/10/microbes\n",
      "https://nplus1.ru/blog/2022/03/09/the-new-science-of-human-individuality\n",
      "https://nplus1.ru/blog/2022/03/05/an225\n",
      "https://nplus1.ru/blog/2022/03/03/journey-to-the-ants\n",
      "https://nplus1.ru/blog/2022/03/01/retoryka-i-marazm-antropocenu\n",
      "https://nplus1.ru/blog/2022/02/28/four-ladies-and-a-young-man-in-a-vacuum\n",
      "https://nplus1.ru/blog/2022/02/25/poisons-around-and-inside\n",
      "https://nplus1.ru/blog/2022/03/17/sincerity-after-communism\n",
      "/news/2022/03/17/TB-qubit-memory\n",
      "/news/2022/03/17/options\n",
      "/news/2022/03/17/gpt-edit\n",
      "/news/2022/03/17/pHe-in-HeII\n",
      "/news/2022/03/17/gaulish-groups\n",
      "/news/2022/03/17/test\n",
      "/news/2022/03/17/mars-drone-fly-again-and-again\n",
      "/material/2022/03/14/close-the-door\n",
      "/rubric/history\n",
      "/theme/explainatorium\n",
      "/material/2022/01/19/qwerty\n",
      "/rubric/partners\n",
      "/news/2022/03/17/gaia-jwst\n",
      "/news/2022/03/17/sound-on-mars\n",
      "/news/2022/03/17/jwst-one-star\n",
      "/news/2022/03/17/notre-dame\n",
      "/news/2022/03/17/spodoptera-frugiperda\n",
      "/news/2022/03/16/parker\n",
      "/blog/2022/03/17/sincerity-after-communism\n",
      "/blog/2022/03/16/what-does-rain-smell-like\n",
      "/material/2022/02/23/slipping-stones\n",
      "/rubric/physics\n",
      "/theme/sci-sport\n",
      "/material/2016/09/07/transport\n",
      "/rubric/transport\n",
      "/news/2022/03/16/ultrathin-copper-oxidation\n",
      "/news/2022/03/16/zwitter\n",
      "/news/2022/03/16/meta-display\n",
      "/news/2022/03/16/hoverfly\n",
      "/news/2022/03/16/elliq\n",
      "/news/2022/03/16/ritual-starfish\n",
      "/blog/2022/03/14/geneweap\n",
      "/blog/2022/03/10/microbes\n",
      "/material/2022/02/18/humanparthenogenesis\n",
      "/rubric/biology\n",
      "/material/2022/02/17/soviet-physics-school\n",
      "/rubric/history\n",
      "/theme/physics-xx-cent\n",
      "/news/2022/03/17/TB-qubit-memory\n",
      "/news/2022/03/17/pHe-in-HeII\n",
      "/news/2022/03/11/moire-exciton\n",
      "/news/2022/03/16/cold-ionized-molecules\n",
      "/news/2022/03/10/Fabry-Perot-chemistry\n",
      "/news/2022/03/14/six-octaves\n",
      "/news/2022/03/10/magnetar-hot-spots\n",
      "/news/2022/03/10/solar-proton-events\n",
      "/news/2022/03/15/achromatic-X-ray-lens\n",
      "/news/2022/03/16/zwitter\n",
      "https://nplus1.ru/blog/2022/03/16/what-does-rain-smell-like\n",
      "https://nplus1.ru/blog/2022/03/16/what-does-rain-smell-like\n",
      "https://nplus1.ru/blog/2022/03/14/geneweap\n",
      "https://nplus1.ru/blog/2022/03/10/microbes\n",
      "https://nplus1.ru/blog/2022/03/09/the-new-science-of-human-individuality\n",
      "https://nplus1.ru/blog/2022/03/05/an225\n",
      "https://nplus1.ru/blog/2022/03/03/journey-to-the-ants\n",
      "https://nplus1.ru/blog/2022/03/01/retoryka-i-marazm-antropocenu\n",
      "https://nplus1.ru/blog/2022/02/28/four-ladies-and-a-young-man-in-a-vacuum\n",
      "https://nplus1.ru/blog/2022/02/25/poisons-around-and-inside\n",
      "https://nplus1.ru/blog/2022/03/17/sincerity-after-communism\n",
      "/\n",
      "/about\n",
      "https://nplus.pro\n",
      "/adv\n",
      "/rules\n",
      "/vacancy\n",
      "/difficult\n",
      "mailto:info@nplus1.ru\n",
      "https://nplus1.ru/personal-data-policy\n",
      "#\n",
      "https://t.me/nplusone\n",
      "http://vk.com/nplusone\n",
      "https://www.facebook.com/nplusone\n",
      "https://twitter.com/nplusodin\n",
      "https://ok.ru/nplus1\n",
      "https://soundcloud.com/nplus_1\n",
      "/rss\n"
     ]
    }
   ],
   "source": [
    "for link in soup.find_all('a'):\n",
    "    print(link.get('href'))"
   ]
  },
  {
   "cell_type": "markdown",
   "metadata": {},
   "source": [
    "Ссылок много. Но нам нужны только новости – ссылки, которые начинаются со слова `/news`. Добавим условие: будем выбирать только те ссылки, в которых есть `/news`. Создадим пустой список `urls` и будем добавлять в него только ссылки, которые удовлетворяют этому условию."
   ]
  },
  {
   "cell_type": "code",
   "execution_count": 30,
   "metadata": {},
   "outputs": [
    {
     "data": {
      "text/plain": [
       "['https://nplus1.ru/news/2022/03/17/TB-qubit-memory',\n",
       " 'https://nplus1.ru/news/2022/03/17/options',\n",
       " 'https://nplus1.ru/news/2022/03/17/gpt-edit',\n",
       " 'https://nplus1.ru/news/2022/03/17/pHe-in-HeII',\n",
       " 'https://nplus1.ru/news/2022/03/17/gaulish-groups',\n",
       " 'https://nplus1.ru/news/2022/03/17/test',\n",
       " 'https://nplus1.ru/news/2022/03/17/mars-drone-fly-again-and-again',\n",
       " 'https://nplus1.ru/news/2022/03/17/gaia-jwst',\n",
       " 'https://nplus1.ru/news/2022/03/17/sound-on-mars',\n",
       " 'https://nplus1.ru/news/2022/03/17/jwst-one-star',\n",
       " 'https://nplus1.ru/news/2022/03/17/notre-dame',\n",
       " 'https://nplus1.ru/news/2022/03/17/spodoptera-frugiperda',\n",
       " 'https://nplus1.ru/news/2022/03/16/parker',\n",
       " 'https://nplus1.ru/news/2022/03/16/ultrathin-copper-oxidation',\n",
       " 'https://nplus1.ru/news/2022/03/16/zwitter',\n",
       " 'https://nplus1.ru/news/2022/03/16/meta-display',\n",
       " 'https://nplus1.ru/news/2022/03/16/hoverfly',\n",
       " 'https://nplus1.ru/news/2022/03/16/elliq',\n",
       " 'https://nplus1.ru/news/2022/03/16/ritual-starfish',\n",
       " 'https://nplus1.ru/news/2022/03/17/TB-qubit-memory',\n",
       " 'https://nplus1.ru/news/2022/03/17/pHe-in-HeII',\n",
       " 'https://nplus1.ru/news/2022/03/11/moire-exciton',\n",
       " 'https://nplus1.ru/news/2022/03/16/cold-ionized-molecules',\n",
       " 'https://nplus1.ru/news/2022/03/10/Fabry-Perot-chemistry',\n",
       " 'https://nplus1.ru/news/2022/03/14/six-octaves',\n",
       " 'https://nplus1.ru/news/2022/03/10/magnetar-hot-spots',\n",
       " 'https://nplus1.ru/news/2022/03/10/solar-proton-events',\n",
       " 'https://nplus1.ru/news/2022/03/15/achromatic-X-ray-lens',\n",
       " 'https://nplus1.ru/news/2022/03/16/zwitter']"
      ]
     },
     "execution_count": 30,
     "metadata": {},
     "output_type": "execute_result"
    }
   ],
   "source": [
    "urls = []\n",
    "\n",
    "for link in soup.find_all('a'):\n",
    "    if '/news' in link.get('href'):\n",
    "        urls.append('https://nplus1.ru'+link.get('href'))\n",
    "urls"
   ]
  },
  {
   "cell_type": "markdown",
   "metadata": {},
   "source": [
    "Ссылки, которые у нас есть в списке `urls`, относительные: они неполные, начало ссылки (название сайта) отсутствует. Давайте превратим их в абсолютные ‒ склеим с ссылкой https://nplus1.ru."
   ]
  },
  {
   "cell_type": "code",
   "execution_count": 31,
   "metadata": {},
   "outputs": [],
   "source": [
    "# full_urls = []\n",
    "\n",
    "# for u in urls:\n",
    "#     res = 'https://nplus1.ru' + u\n",
    "#     full_urls.append(res) \n",
    "\n",
    "# full_urls"
   ]
  },
  {
   "cell_type": "markdown",
   "metadata": {},
   "source": [
    "Теперь наша задача сводится к следующему: изучить одну страницу с новостью, научиться из нее вытаскивать текст и всю необходимую информацию, а потом применить весь набор действий к каждой ссылке из `full_urls` в цикле. Посмотрим на новость с индексом 1, у вас может быть другая, новости обновляются."
   ]
  },
  {
   "cell_type": "code",
   "execution_count": 32,
   "metadata": {},
   "outputs": [],
   "source": [
    "url0 = urls[0]\n",
    "\n",
    "page0 = requests.get(url0)\n",
    "soup0 = BeautifulSoup(page0.text, 'lxml')"
   ]
  },
  {
   "cell_type": "code",
   "execution_count": 35,
   "metadata": {},
   "outputs": [
    {
     "data": {
      "text/plain": [
       "'https://nplus1.ru/news/2022/03/17/TB-qubit-memory'"
      ]
     },
     "execution_count": 35,
     "metadata": {},
     "output_type": "execute_result"
    }
   ],
   "source": [
    "url0"
   ]
  },
  {
   "cell_type": "markdown",
   "metadata": {},
   "source": [
    "В коде каждой страницы с новостью есть часть с мета-информацией: датой, именем автора и проч. Такая информация окружена тэгом `<meta></meta>`. Посмотрим:"
   ]
  },
  {
   "cell_type": "code",
   "execution_count": 36,
   "metadata": {},
   "outputs": [
    {
     "data": {
      "text/plain": [
       "[<meta charset=\"utf-8\"/>,\n",
       " <meta content=\"ie=edge\" http-equiv=\"x-ua-compatible\"/>,\n",
       " <meta content=\"width=device-width, initial-scale=1\" name=\"viewport\"/>,\n",
       " <meta content=\"yes\" name=\"apple-mobile-web-app-capable\"/>,\n",
       " <meta content=\"black\" name=\"apple-mobile-web-app-status-bar-style\"/>,\n",
       " <meta content=\"7991d7eb02d759f05b9050e111a7e3eb\" name=\"wmail-verification\"/>,\n",
       " <meta content=\"2022-03-17\" itemprop=\"datePublished\"/>,\n",
       " <meta content=\"Марат Хамадеев\" name=\"mediator_author\"/>,\n",
       " <meta content=\"Это превышает предыдущий рекорд в 20 раз\" name=\"description\"/>,\n",
       " <meta content=\"Марат Хамадеев\" name=\"author\"/>,\n",
       " <meta content=\"\" name=\"copyright\"/>,\n",
       " <meta content=\"Физики научились хранить кубиты с временным кодированием 20 миллисекунд\" property=\"og:title\"/>,\n",
       " <meta content=\"https://nplus1.ru/images/2022/03/17/9b76e0cb56cf048173761d325c10fc98.jpg\" property=\"og:image\"/>,\n",
       " <meta content=\"https://nplus1.ru/news/2022/03/17/TB-qubit-memory\" property=\"og:url\"/>,\n",
       " <meta content=\"Это превышает предыдущий рекорд в 20 раз\" property=\"og:description\"/>,\n",
       " <meta content=\"summary_large_image\" name=\"twitter:card\"/>,\n",
       " <meta content=\"@nplusodin\" name=\"twitter:site\"/>,\n",
       " <meta content=\"Физики научились хранить кубиты с временным кодированием 20 миллисекунд\" name=\"twitter:title\"/>,\n",
       " <meta content=\"Это превышает предыдущий рекорд в 20 раз\" name=\"twitter:description\"/>,\n",
       " <meta content=\"https://nplus1.ru/images/2022/03/17/9b76e0cb56cf048173761d325c10fc98.jpg\" name=\"twitter:image\"/>,\n",
       " <meta content=\"8c90b02c84ac3b72\" name=\"yandex-verification\"/>,\n",
       " <meta content=\"b419949322895fc9106e24ed01be58ac\" name=\"pmail-verification\"/>]"
      ]
     },
     "execution_count": 36,
     "metadata": {},
     "output_type": "execute_result"
    }
   ],
   "source": [
    "soup0.find_all('meta')"
   ]
  },
  {
   "cell_type": "markdown",
   "metadata": {},
   "source": [
    "Из этого списка нам нужны части с именем автора, датой, заголовком и кратким описанием. Воспользуемся поиском по атрибуту `name`. Передадим функции `find_all()` в качестве аргумента словарь с названием и значением атрибута: "
   ]
  },
  {
   "cell_type": "code",
   "execution_count": 37,
   "metadata": {},
   "outputs": [
    {
     "data": {
      "text/plain": [
       "[<meta content=\"Марат Хамадеев\" name=\"author\"/>]"
      ]
     },
     "execution_count": 37,
     "metadata": {},
     "output_type": "execute_result"
    }
   ],
   "source": [
    "soup0.find_all('meta', {'name' : 'author'}) # например, автор"
   ]
  },
  {
   "cell_type": "markdown",
   "metadata": {},
   "source": [
    "Теперь выберем единственный элемент полученного списка (с индексом 0):"
   ]
  },
  {
   "cell_type": "code",
   "execution_count": 38,
   "metadata": {},
   "outputs": [
    {
     "data": {
      "text/plain": [
       "<meta content=\"Марат Хамадеев\" name=\"author\"/>"
      ]
     },
     "execution_count": 38,
     "metadata": {},
     "output_type": "execute_result"
    }
   ],
   "source": [
    "soup0.find_all('meta', {'name' : 'author'})[0]"
   ]
  },
  {
   "cell_type": "markdown",
   "metadata": {},
   "source": [
    "Нам нужно вытащить из этого объекта `content` – имя автора. Посмотрим на атрибуты:"
   ]
  },
  {
   "cell_type": "code",
   "execution_count": 39,
   "metadata": {},
   "outputs": [
    {
     "data": {
      "text/plain": [
       "{'name': 'author', 'content': 'Марат Хамадеев'}"
      ]
     },
     "execution_count": 39,
     "metadata": {},
     "output_type": "execute_result"
    }
   ],
   "source": [
    "soup0.find_all('meta', {'name' : 'author'})[0].attrs"
   ]
  },
  {
   "cell_type": "markdown",
   "metadata": {},
   "source": [
    "Как получить отсюда `content`? Очень просто, ведь это словарь! А доставать из словаря значение по ключу мы умеем."
   ]
  },
  {
   "cell_type": "code",
   "execution_count": 41,
   "metadata": {},
   "outputs": [
    {
     "data": {
      "text/plain": [
       "'Марат Хамадеев'"
      ]
     },
     "execution_count": 41,
     "metadata": {},
     "output_type": "execute_result"
    }
   ],
   "source": [
    "author = soup0.find_all('meta', {'name' : 'author'})[0].attrs['content']\n",
    "author"
   ]
  },
  {
   "cell_type": "markdown",
   "metadata": {},
   "source": [
    "Аналогичным образом извлечем дату, заголовок и описание."
   ]
  },
  {
   "cell_type": "code",
   "execution_count": 42,
   "metadata": {},
   "outputs": [],
   "source": [
    "date = soup0.find_all('meta', {'itemprop' : 'datePublished'})[0].attrs['content']\n",
    "title = soup0.find_all('meta', {'property' : 'og:title'})[0].attrs['content']\n",
    "description = soup0.find_all('meta', {'name' : 'description'})[0].attrs['content']"
   ]
  },
  {
   "cell_type": "markdown",
   "metadata": {},
   "source": [
    "Осталось вытащить рубрики и сложность текста. Если мы посмотрим на исходный код страницы, мы увидим, что нужная нам информация находится в тэгах `<p></p>`:"
   ]
  },
  {
   "cell_type": "code",
   "execution_count": 47,
   "metadata": {},
   "outputs": [
    {
     "data": {
      "text/plain": [
       "<p class=\"table\">\n",
       "<a href=\"/news/2022/03/17\">\n",
       "<time content=\"2022-03-17\" data-unix=\"1647530572\" itemprop=\"datePublished\">\n",
       "<span>18:22</span>\n",
       "<span>17 Март 2022</span>\n",
       "</time>\n",
       "</a>\n",
       "</p>"
      ]
     },
     "execution_count": 47,
     "metadata": {},
     "output_type": "execute_result"
    }
   ],
   "source": [
    "soup0.find_all('p')[1]"
   ]
  },
  {
   "cell_type": "markdown",
   "metadata": {},
   "source": [
    "Выберем из полученного списка первый элемент и найдем в нем все тэги `<a>`:"
   ]
  },
  {
   "cell_type": "code",
   "execution_count": 48,
   "metadata": {},
   "outputs": [
    {
     "data": {
      "text/plain": [
       "[<a data-rubric=\"physics\" href=\"/rubric/physics\">Физика</a>]"
      ]
     },
     "execution_count": 48,
     "metadata": {},
     "output_type": "execute_result"
    }
   ],
   "source": [
    "soup0.find_all('p')[0].find_all('a')"
   ]
  },
  {
   "cell_type": "markdown",
   "metadata": {},
   "source": [
    "Получился список из одного элемента. Применим списковые включения – вытащим из каждого элемента (их могло бы быть больше) текст и поместим его в новый список `rubrics`."
   ]
  },
  {
   "cell_type": "code",
   "execution_count": 49,
   "metadata": {},
   "outputs": [
    {
     "data": {
      "text/plain": [
       "['Физика']"
      ]
     },
     "execution_count": 49,
     "metadata": {},
     "output_type": "execute_result"
    }
   ],
   "source": [
    "rubrics = [r.text for r in soup0.find_all('p')[0].find_all('a')]\n",
    "rubrics"
   ]
  },
  {
   "cell_type": "markdown",
   "metadata": {},
   "source": [
    "Осталась только сложность. Возьмем соответствующий кусок кода:"
   ]
  },
  {
   "cell_type": "code",
   "execution_count": 50,
   "metadata": {},
   "outputs": [
    {
     "data": {
      "text/plain": [
       "[<span class=\"difficult-value\">8.4</span>]"
      ]
     },
     "execution_count": 50,
     "metadata": {},
     "output_type": "execute_result"
    }
   ],
   "source": [
    "soup0.find_all('span', {'class' : 'difficult-value'})"
   ]
  },
  {
   "cell_type": "markdown",
   "metadata": {},
   "source": [
    "И выберем оттуда текст."
   ]
  },
  {
   "cell_type": "code",
   "execution_count": 51,
   "metadata": {},
   "outputs": [
    {
     "data": {
      "text/plain": [
       "'8.4'"
      ]
     },
     "execution_count": 51,
     "metadata": {},
     "output_type": "execute_result"
    }
   ],
   "source": [
    "diff = soup0.find_all('span', {'class' : 'difficult-value'})[0].text\n",
    "diff"
   ]
  },
  {
   "cell_type": "markdown",
   "metadata": {},
   "source": [
    "Теперь перейдем к тексту самой новости. Как можно заметить, текст сохранен в абзацах `<p></p>`, причем безо всяких атрибутов. Сообщим Python, что нас интересуют куски с пустым атрибутом `class`:"
   ]
  },
  {
   "cell_type": "code",
   "execution_count": 54,
   "metadata": {},
   "outputs": [],
   "source": [
    "text_list = soup0.find_all('p', {'class' : None})"
   ]
  },
  {
   "cell_type": "code",
   "execution_count": 55,
   "metadata": {},
   "outputs": [
    {
     "data": {
      "text/plain": [
       "[<p>Физики продемонстрировали работу квантовой памяти для хранения кубитов с временным кодированием на основе кристалла <sup>151</sup>Eu<sup>3+</sup>:Y<sub>2</sub>SiO<sub>5</sub>. Они показали, что такая память способна хранить их до 20 миллисекунд, демонстрируя на выходе степень совпадения равную 85 процентам для одного фотона на кубит. Исследование <a href=\"https://www.nature.com/articles/s41534-022-00541-3\" rel=\"nofollow\" target=\"_blank\">опубликовано</a> в <i>npj Quantum Information</i>.</p>,\n",
       " <p>Физики говорят о кубите, когда имеют дело с простейшей квантово-механической системой, которая может находиться в двух различных состояниях, а также в их квантовой суперпозиции. Отличительной особенностью кубитов стало то, что они могут быть запутаны друг с другом. Запутанность подразумевает наличие неклассических корреляций, и выражается через невозможность представить состояние двух или нескольких кубитов через произведение соответствующих одночастичных состояний.</p>,\n",
       " <p>Определение, приведенное выше, достаточно общее. Это обуславливает огромное количество физических систем, которые были предложены для реализаций кубитов. Они не только различаются по типу физических носителей, (например, фотоны, электроны, ядра, сверхпроводящие контуры и так далее), но и по их характеристикам, которые кодируют кубит. Например, у тех же фотонов квантовая информация может храниться в поляризации, их числе, а также во временных свойствах. В последнем случае систему называют <a href=\"https://en.wikipedia.org/wiki/Time-bin_encoding\" rel=\"nofollow\" target=\"_blank\" title=\"Link: https://en.wikipedia.org/wiki/Time-bin_encoding\">кубитом с временным кодированием</a> (time-bin qubit, TB-кубит). Состояние такого кубита представляет собой суперпозицию состояний, соответствующих фотону, который движется с различной временной задержкой. Обычно фотон, прибывающий раньше, соответствует состоянию |0&gt;, а позже — |1&gt;. Простейшим способом создания такого кубита стал интерферометр, чьи плечи имеют различную длину.</p>,\n",
       " <p>Впрочем, мало создать фотонные кубиты, надо также уметь ими манипулировать, а также ретранслировать их запутанность дальше в системе повторителей. Последнее <a href=\"https://www.nature.com/articles/nature07127\" rel=\"nofollow\" target=\"_blank\">необходимо</a> в приложениях распределения квантового ключа на большие расстояния, распределенных квантовых вычислениях и квантовых симуляциях. Перспективным подходом к созданию соответствующих узлов стали кристаллы, допированные редкоземельными ионами. На сегодня наибольшее время хранения квантовой информации в таких средах <a href=\"https://journals.aps.org/prl/abstract/10.1103/PhysRevLett.114.230502\" rel=\"nofollow\" target=\"_blank\">не превышает</a> одной миллисекунды. Однако даже краткосрочным квантовым повторителям требуется время хранения не менее 10 миллисекунд, хотя, скорее всего, оно должно быть в десятки раз больше. Это служит мотивацией для поиска условий, которые могли бы продлить когерентность редкоземельных ионов.</p>,\n",
       " <p>Физики из Франции и Швейцарии при участии Микаэля Афзелиуса (Mikael Afzelius) сообщили о том, что им удалось добиться времени хранения кубитов с временным кодированием равного 20 миллисекундам в кристалле <sup>151</sup>Eu<sup>3+</sup>:Y<sub>2</sub>SiO<sub>5</sub>. Этого удалось добиться применением к кристаллу техники динамической развязки и небольшого магнитного поля. Извлеченные из кристалла фотоны продемонстрировали степень совпадения (fidelity) равную 85 процентам для среднего количества фотонов на кубит равного 0,92.</p>,\n",
       " <p>В основе квантовой памяти, созданной авторами, лежит механизм <a href=\"https://ru.wikipedia.org/wiki/%D0%A4%D0%BE%D1%82%D0%BE%D0%BD%D0%BD%D0%BE%D0%B5_%D1%8D%D1%85%D0%BE\" rel=\"nofollow\" target=\"_blank\">фотонного эха</a>. Этот эффект заключается в обратимости эволюции когерентных атомных состояний с помощью правильно подобранной серии управляющих импульсов. В результате атомный ансамбль, поглотивший некоторую сигнальную последовательность импульсов, после некоторых манипуляций переизлучает ее обратно.</p>,\n",
       " <p>Для хранения TB-кубитов с помощью фотонного эха требуется одновременное хранение нескольких временных мод. Для этого физиками была придумана концепция атомных частотных гребенок — то есть спектра поглощения кристалла, состоящего из эквидистантных линий. Для создания таких гребенок физики как правило используют серию мощных импульсов с частотным интервалом, работающих за счет эффекта <a href=\"https://en.wikipedia.org/wiki/Electromagnetically_induced_transparency\" rel=\"nofollow\" target=\"_blank\" title=\"Link: https://en.wikipedia.org/wiki/Electromagnetically_induced_transparency\">электромагнитно-индуцированной прозрачности</a>.</p>,\n",
       " <p>Основной <sup>7</sup>F<sub>0</sub> и возбужденный <sup>5</sup>D<sub>0</sub> термы иона Eu<sup>3+</sup>, использованного в работе, разделяет оптический переход на длине волны 580 нанометров. Из-за наличия ядерного спина каждый из них расщепляется на три сверхтонких дуплета с интервалами порядка нескольких десятков мегагерц. Эта структура позволила авторам выбрать Λ-схему, в которой решетка наводится на первый подуровень основного терма (|g&gt;), переход с него на первый подуровень возбужденного терма (|e&gt;) нужен для записи кубита, а второй подуровень основного терма (|s&gt;) нужен для его долгосрочного хранения.</p>,\n",
       " <p></p>,\n",
       " <p></p>,\n",
       " <p>Ранее мы уже рассказывали, как другой редкоземельный ион — иттербий, — помещенный в оптический резонатор, <a href=\"https://nplus1.ru/news/2020/03/31/Yb-in-nanophotonic-cavity\" target=\"_blank\">продемонстрировал</a> высокую когерентность спинового состояния и быстрое его считывание.</p>,\n",
       " <p><i>Марат Хамадеев</i><br/></p>,\n",
       " <p>Нашли опечатку? Выделите фрагмент и нажмите Ctrl+Enter.</p>,\n",
       " <p>Коэффициент сложности</p>,\n",
       " <p>Коэффициент сложности</p>,\n",
       " <p>Коэффициент сложности</p>,\n",
       " <p>Коэффициент сложности</p>,\n",
       " <p>Коэффициент сложности</p>,\n",
       " <p>Коэффициент сложности</p>,\n",
       " <p>Коэффициент сложности</p>,\n",
       " <p>Коэффициент сложности</p>,\n",
       " <p>Коэффициент сложности</p>,\n",
       " <p>Коэффициент сложности</p>,\n",
       " <p>© 2022 <i>N + 1</i> Интернет-издание   Свидетельство о регистрации СМИ Эл № ФС77-67614</p>,\n",
       " <p>Использование всех текстовых материалов без изменений в некоммерческих целях разрешается со ссылкой на <i>N + 1</i>. \n",
       "                         Все аудиовизуальные произведения являются собственностью своих авторов и правообладателей и используются \n",
       "                         только в образовательных и информационных целях. Если вы являетесь собственником того или иного произведения \n",
       "                         и не согласны с его размещением на нашем сайте, пожалуйста, напишите на kirill@nplus1.ru</p>,\n",
       " <p>Материалы, опубликованные в разделе «Блоги», отражают позиции их авторов, которые могут не совпадать с мнением редакции.</p>,\n",
       " <p>Сайт может содержать контент, не предназначенный для лиц младше 18 лет.</p>,\n",
       " <p>Связь с редакцией: <a href=\"mailto:info@nplus1.ru\">info@nplus1.ru</a></p>,\n",
       " <p>\n",
       " <a class=\"pd\" href=\"https://nplus1.ru/personal-data-policy\">Политика обработки персональных данных пользователей сайта</a>\n",
       " </p>,\n",
       " <p>\n",
       " <script async=\"\" src=\"//s.luxupcdnc.com/t/consent_195458.js\" type=\"text/javascript\"></script>\n",
       " <a href=\"#\" onclick=\"if(window.__lxG__consent__ !== undefined) {window.__lxG__consent__.showConsent()} else {alert('This function works only for users from the European Economic Area (EEA).')}; return false\">Change privacy settings</a>\n",
       " </p>,\n",
       " <p>\n",
       " </p>]"
      ]
     },
     "execution_count": 55,
     "metadata": {},
     "output_type": "execute_result"
    }
   ],
   "source": [
    "text_list"
   ]
  },
  {
   "cell_type": "markdown",
   "metadata": {},
   "source": [
    "«Выцепим» все тексты (без тэгов) из полученного списка:"
   ]
  },
  {
   "cell_type": "code",
   "execution_count": 56,
   "metadata": {},
   "outputs": [],
   "source": [
    "text = [t.text for t in text_list]"
   ]
  },
  {
   "cell_type": "markdown",
   "metadata": {},
   "source": [
    "Склеим все элементы списка `text` через пробел:"
   ]
  },
  {
   "cell_type": "code",
   "execution_count": 57,
   "metadata": {},
   "outputs": [
    {
     "data": {
      "text/plain": [
       "'Физики продемонстрировали работу квантовой памяти для хранения кубитов с\\xa0временным кодированием на\\xa0основе кристалла 151Eu3+:Y2SiO5. Они показали, что такая память способна хранить их до\\xa020\\xa0миллисекунд, демонстрируя на\\xa0выходе степень совпадения равную 85\\xa0процентам для одного фотона на\\xa0кубит. Исследование опубликовано в\\xa0npj Quantum Information. Физики говорят о\\xa0кубите, когда имеют дело с\\xa0простейшей квантово-механической системой, которая может находиться в\\xa0двух различных состояниях, а\\xa0также в\\xa0их\\xa0квантовой суперпозиции. Отличительной особенностью кубитов стало\\xa0то, что они могут быть запутаны друг с\\xa0другом. Запутанность подразумевает наличие неклассических корреляций, и\\xa0выражается через невозможность представить состояние двух или нескольких кубитов через произведение соответствующих одночастичных состояний. Определение, приведенное выше, достаточно общее. Это обуславливает огромное количество физических систем, которые были предложены для реализаций кубитов. Они не\\xa0только различаются по\\xa0типу физических носителей, (например, фотоны, электроны, ядра, сверхпроводящие контуры и\\xa0так далее), но\\xa0и\\xa0по\\xa0их\\xa0характеристикам, которые кодируют кубит. Например, у\\xa0тех\\xa0же фотонов квантовая информация может храниться в\\xa0поляризации, их\\xa0числе, а\\xa0также во\\xa0временных свойствах. В\\xa0последнем случае систему называют кубитом с\\xa0временным кодированием (time-bin qubit, TB-кубит). Состояние такого кубита представляет собой суперпозицию состояний, соответствующих фотону, который движется с\\xa0различной временной задержкой. Обычно фотон, прибывающий раньше, соответствует состоянию |0>, а\\xa0позже\\xa0— |1>. Простейшим способом создания такого кубита стал интерферометр, чьи плечи имеют различную длину. Впрочем, мало создать фотонные кубиты, надо также уметь ими манипулировать, а\\xa0также ретранслировать их\\xa0запутанность дальше в\\xa0системе повторителей. Последнее необходимо в\\xa0приложениях распределения квантового ключа на\\xa0большие расстояния, распределенных квантовых вычислениях и\\xa0квантовых симуляциях. Перспективным подходом к\\xa0созданию соответствующих узлов стали кристаллы, допированные редкоземельными ионами. На\\xa0сегодня наибольшее время хранения квантовой информации в\\xa0таких средах не\\xa0превышает одной миллисекунды. Однако даже краткосрочным квантовым повторителям требуется время хранения не\\xa0менее 10\\xa0миллисекунд, хотя, скорее всего, оно должно быть в\\xa0десятки раз больше. Это служит мотивацией для поиска условий, которые могли\\xa0бы продлить когерентность редкоземельных ионов. Физики из\\xa0Франции и\\xa0Швейцарии при участии Микаэля Афзелиуса (Mikael Afzelius) сообщили о\\xa0том, что им\\xa0удалось добиться времени хранения кубитов с\\xa0временным кодированием равного 20\\xa0миллисекундам в\\xa0кристалле 151Eu3+:Y2SiO5. Этого удалось добиться применением к\\xa0кристаллу техники динамической развязки и\\xa0небольшого магнитного поля. Извлеченные из\\xa0кристалла фотоны продемонстрировали степень совпадения (fidelity) равную 85\\xa0процентам для среднего количества фотонов на\\xa0кубит равного 0,92. В\\xa0основе квантовой памяти, созданной авторами, лежит механизм фотонного эха. Этот эффект заключается в\\xa0обратимости эволюции когерентных атомных состояний с\\xa0помощью правильно подобранной серии управляющих импульсов. В\\xa0результате атомный ансамбль, поглотивший некоторую сигнальную последовательность импульсов, после некоторых манипуляций переизлучает ее\\xa0обратно. Для хранения TB-кубитов с\\xa0помощью фотонного эха требуется одновременное хранение нескольких временных мод. Для этого физиками была придумана концепция атомных частотных гребенок\\xa0— то\\xa0есть спектра поглощения кристалла, состоящего из\\xa0эквидистантных линий. Для создания таких гребенок физики как правило используют серию мощных импульсов с\\xa0частотным интервалом, работающих за\\xa0счет эффекта электромагнитно-индуцированной прозрачности. Основной 7F0 и\\xa0возбужденный 5D0 термы иона Eu3+, использованного в работе, разделяет оптический переход на\\xa0длине волны 580\\xa0нанометров. Из-за наличия ядерного спина каждый из\\xa0них расщепляется на\\xa0три сверхтонких дуплета с\\xa0интервалами порядка нескольких десятков мегагерц. Эта структура позволила авторам выбрать Λ-схему, в\\xa0которой решетка наводится на\\xa0первый подуровень основного терма (|g>), переход с\\xa0него на\\xa0первый подуровень возбужденного терма (|e>) нужен для записи кубита, а\\xa0второй подуровень основного терма (|s>) нужен для его долгосрочного хранения.   Ранее мы\\xa0уже рассказывали, как другой редкоземельный ион\\xa0— иттербий,\\xa0— помещенный в\\xa0оптический резонатор, продемонстрировал высокую когерентность спинового состояния и\\xa0быстрое его считывание. Марат Хамадеев Нашли опечатку? Выделите фрагмент и нажмите Ctrl+Enter. Коэффициент сложности Коэффициент сложности Коэффициент сложности Коэффициент сложности Коэффициент сложности Коэффициент сложности Коэффициент сложности Коэффициент сложности Коэффициент сложности Коэффициент сложности © 2022 N\\xa0+\\xa01 Интернет-издание \\xa0 Свидетельство о регистрации СМИ Эл № ФС77-67614 Использование всех текстовых материалов без изменений в некоммерческих целях разрешается со ссылкой на N\\xa0+\\xa01. \\n                        Все аудиовизуальные произведения являются собственностью своих авторов и правообладателей и используются \\n                        только в образовательных и информационных целях. Если вы являетесь собственником того или иного произведения \\n                        и не согласны с его размещением на нашем сайте, пожалуйста, напишите на kirill@nplus1.ru Материалы, опубликованные в разделе «Блоги», отражают позиции их авторов, которые могут не совпадать с мнением редакции. Сайт может содержать контент, не предназначенный для лиц младше 18 лет. Связь с редакцией: info@nplus1.ru \\nПолитика обработки персональных данных пользователей сайта\\n \\n\\nChange privacy settings\\n \\n'"
      ]
     },
     "execution_count": 57,
     "metadata": {},
     "output_type": "execute_result"
    }
   ],
   "source": [
    "final_text = ' '.join(text)\n",
    "final_text"
   ]
  },
  {
   "cell_type": "markdown",
   "metadata": {},
   "source": [
    "Все здорово, только мешают отступы-переходы на новую строку `\\n`. Заменим их на пробелы с помощью метода `.replace`:"
   ]
  },
  {
   "cell_type": "code",
   "execution_count": 58,
   "metadata": {},
   "outputs": [],
   "source": [
    "final_text = final_text.replace('\\n', ' ')"
   ]
  },
  {
   "cell_type": "code",
   "execution_count": 59,
   "metadata": {},
   "outputs": [],
   "source": [
    "final_text = final_text.replace('\\xa0', ' ')"
   ]
  },
  {
   "cell_type": "code",
   "execution_count": 60,
   "metadata": {},
   "outputs": [
    {
     "data": {
      "text/plain": [
       "'Физики продемонстрировали работу квантовой памяти для хранения кубитов с временным кодированием на основе кристалла 151Eu3+:Y2SiO5. Они показали, что такая память способна хранить их до 20 миллисекунд, демонстрируя на выходе степень совпадения равную 85 процентам для одного фотона на кубит. Исследование опубликовано в npj Quantum Information. Физики говорят о кубите, когда имеют дело с простейшей квантово-механической системой, которая может находиться в двух различных состояниях, а также в их квантовой суперпозиции. Отличительной особенностью кубитов стало то, что они могут быть запутаны друг с другом. Запутанность подразумевает наличие неклассических корреляций, и выражается через невозможность представить состояние двух или нескольких кубитов через произведение соответствующих одночастичных состояний. Определение, приведенное выше, достаточно общее. Это обуславливает огромное количество физических систем, которые были предложены для реализаций кубитов. Они не только различаются по типу физических носителей, (например, фотоны, электроны, ядра, сверхпроводящие контуры и так далее), но и по их характеристикам, которые кодируют кубит. Например, у тех же фотонов квантовая информация может храниться в поляризации, их числе, а также во временных свойствах. В последнем случае систему называют кубитом с временным кодированием (time-bin qubit, TB-кубит). Состояние такого кубита представляет собой суперпозицию состояний, соответствующих фотону, который движется с различной временной задержкой. Обычно фотон, прибывающий раньше, соответствует состоянию |0>, а позже — |1>. Простейшим способом создания такого кубита стал интерферометр, чьи плечи имеют различную длину. Впрочем, мало создать фотонные кубиты, надо также уметь ими манипулировать, а также ретранслировать их запутанность дальше в системе повторителей. Последнее необходимо в приложениях распределения квантового ключа на большие расстояния, распределенных квантовых вычислениях и квантовых симуляциях. Перспективным подходом к созданию соответствующих узлов стали кристаллы, допированные редкоземельными ионами. На сегодня наибольшее время хранения квантовой информации в таких средах не превышает одной миллисекунды. Однако даже краткосрочным квантовым повторителям требуется время хранения не менее 10 миллисекунд, хотя, скорее всего, оно должно быть в десятки раз больше. Это служит мотивацией для поиска условий, которые могли бы продлить когерентность редкоземельных ионов. Физики из Франции и Швейцарии при участии Микаэля Афзелиуса (Mikael Afzelius) сообщили о том, что им удалось добиться времени хранения кубитов с временным кодированием равного 20 миллисекундам в кристалле 151Eu3+:Y2SiO5. Этого удалось добиться применением к кристаллу техники динамической развязки и небольшого магнитного поля. Извлеченные из кристалла фотоны продемонстрировали степень совпадения (fidelity) равную 85 процентам для среднего количества фотонов на кубит равного 0,92. В основе квантовой памяти, созданной авторами, лежит механизм фотонного эха. Этот эффект заключается в обратимости эволюции когерентных атомных состояний с помощью правильно подобранной серии управляющих импульсов. В результате атомный ансамбль, поглотивший некоторую сигнальную последовательность импульсов, после некоторых манипуляций переизлучает ее обратно. Для хранения TB-кубитов с помощью фотонного эха требуется одновременное хранение нескольких временных мод. Для этого физиками была придумана концепция атомных частотных гребенок — то есть спектра поглощения кристалла, состоящего из эквидистантных линий. Для создания таких гребенок физики как правило используют серию мощных импульсов с частотным интервалом, работающих за счет эффекта электромагнитно-индуцированной прозрачности. Основной 7F0 и возбужденный 5D0 термы иона Eu3+, использованного в работе, разделяет оптический переход на длине волны 580 нанометров. Из-за наличия ядерного спина каждый из них расщепляется на три сверхтонких дуплета с интервалами порядка нескольких десятков мегагерц. Эта структура позволила авторам выбрать Λ-схему, в которой решетка наводится на первый подуровень основного терма (|g>), переход с него на первый подуровень возбужденного терма (|e>) нужен для записи кубита, а второй подуровень основного терма (|s>) нужен для его долгосрочного хранения.   Ранее мы уже рассказывали, как другой редкоземельный ион — иттербий, — помещенный в оптический резонатор, продемонстрировал высокую когерентность спинового состояния и быстрое его считывание. Марат Хамадеев Нашли опечатку? Выделите фрагмент и нажмите Ctrl+Enter. Коэффициент сложности Коэффициент сложности Коэффициент сложности Коэффициент сложности Коэффициент сложности Коэффициент сложности Коэффициент сложности Коэффициент сложности Коэффициент сложности Коэффициент сложности © 2022 N + 1 Интернет-издание   Свидетельство о регистрации СМИ Эл № ФС77-67614 Использование всех текстовых материалов без изменений в некоммерческих целях разрешается со ссылкой на N + 1.                          Все аудиовизуальные произведения являются собственностью своих авторов и правообладателей и используются                          только в образовательных и информационных целях. Если вы являетесь собственником того или иного произведения                          и не согласны с его размещением на нашем сайте, пожалуйста, напишите на kirill@nplus1.ru Материалы, опубликованные в разделе «Блоги», отражают позиции их авторов, которые могут не совпадать с мнением редакции. Сайт может содержать контент, не предназначенный для лиц младше 18 лет. Связь с редакцией: info@nplus1.ru  Политика обработки персональных данных пользователей сайта    Change privacy settings   '"
      ]
     },
     "execution_count": 60,
     "metadata": {},
     "output_type": "execute_result"
    }
   ],
   "source": [
    "final_text"
   ]
  },
  {
   "cell_type": "markdown",
   "metadata": {},
   "source": [
    "Не прошло и двух пар, как мы разобрались со всем :) Теперь осталось совсем чуть-чуть. Написать готовую функцию для всех проделанных нами действий и применить ее в цикле для всех ссылок в списке `full_urls`. Напишем! Аргументом функции будет ссылка на новость, а возвращать она будет текст новости и всю необходимую информацию (дата, автор, сложность и проч.). Скопируем все строки кода выше."
   ]
  },
  {
   "cell_type": "code",
   "execution_count": 61,
   "metadata": {},
   "outputs": [],
   "source": [
    "def GetNews(url0):\n",
    "    \"\"\"\n",
    "    Returns a tuple with url0, date, author, description, title, final_text, rubrics, diff.\n",
    "    Parameters:\n",
    "    \n",
    "    url0 is a link to the news (string)\n",
    "    \"\"\"\n",
    "    page0 = requests.get(url0)\n",
    "    soup0 = BeautifulSoup(page0.text, 'lxml')\n",
    "    \n",
    "    author = soup0.find_all('meta', {'name' : 'author'})[0].attrs['content']\n",
    "    date = soup0.find_all('meta', {'itemprop' : 'datePublished'})[0].attrs['content']\n",
    "    title = soup0.find_all('meta', {'property' : 'og:title'})[0].attrs['content']\n",
    "    description = soup0.find_all('meta', {'name' : 'description'})[0].attrs['content']\n",
    "    \n",
    "    rubrics = [r.text for r in soup0.find_all('p')[0].find_all('a')]\n",
    "    \n",
    "    diff = soup0.find_all('span', {'class' : 'difficult-value'})[0].text\n",
    "    text_list = soup0.find_all('p', {'class' : None})\n",
    "    text = [t.text for t in text_list]\n",
    "    final_text = ' '.join(text)\n",
    "    final_text = final_text.replace('\\n', ' ')\n",
    "    final_text = final_text.replace('\\xa0', ' ')\n",
    "    \n",
    "    return url0, date, author, description, title, final_text, rubrics, diff"
   ]
  },
  {
   "cell_type": "markdown",
   "metadata": {},
   "source": [
    "Уфф. Осталось применить ее в цикле. Но давайте не будем спешить: импортируем функцию `sleep` для задержки, чтобы на каждой итерации цикла, прежде чем перейти к следующей новости, Python ждал несколько секунд. Во-первых, это нужно, чтобы сайт «не понял», чтобы мы его грабим, да еще автоматически. Во-вторых, с небольшой задержкой всегда есть гарантия, что страница прогрузится (сейчас это пока не очень важно, но особенно актуально будет, когда будем обсуждать встраивание в браузер с Selenium). Приступим."
   ]
  },
  {
   "cell_type": "code",
   "execution_count": 62,
   "metadata": {},
   "outputs": [],
   "source": [
    "from time import sleep"
   ]
  },
  {
   "cell_type": "code",
   "execution_count": 63,
   "metadata": {},
   "outputs": [],
   "source": [
    "news = [] # это будет список из кортежей, в которых будут храниться данные по каждой новости\n",
    "\n",
    "for link in urls:\n",
    "    res = GetNews(link)\n",
    "    news.append(res)\n",
    "    sleep(1) # задержка в 3 секунды"
   ]
  },
  {
   "cell_type": "markdown",
   "metadata": {},
   "source": [
    "Так теперь выглядит первый элемент списка:"
   ]
  },
  {
   "cell_type": "code",
   "execution_count": 64,
   "metadata": {},
   "outputs": [
    {
     "data": {
      "text/plain": [
       "('https://nplus1.ru/news/2022/03/17/TB-qubit-memory',\n",
       " '2022-03-17',\n",
       " 'Марат Хамадеев',\n",
       " 'Это превышает предыдущий рекорд в 20 раз',\n",
       " 'Физики научились хранить кубиты с временным кодированием 20 миллисекунд',\n",
       " 'Физики продемонстрировали работу квантовой памяти для хранения кубитов с временным кодированием на основе кристалла 151Eu3+:Y2SiO5. Они показали, что такая память способна хранить их до 20 миллисекунд, демонстрируя на выходе степень совпадения равную 85 процентам для одного фотона на кубит. Исследование опубликовано в npj Quantum Information. Физики говорят о кубите, когда имеют дело с простейшей квантово-механической системой, которая может находиться в двух различных состояниях, а также в их квантовой суперпозиции. Отличительной особенностью кубитов стало то, что они могут быть запутаны друг с другом. Запутанность подразумевает наличие неклассических корреляций, и выражается через невозможность представить состояние двух или нескольких кубитов через произведение соответствующих одночастичных состояний. Определение, приведенное выше, достаточно общее. Это обуславливает огромное количество физических систем, которые были предложены для реализаций кубитов. Они не только различаются по типу физических носителей, (например, фотоны, электроны, ядра, сверхпроводящие контуры и так далее), но и по их характеристикам, которые кодируют кубит. Например, у тех же фотонов квантовая информация может храниться в поляризации, их числе, а также во временных свойствах. В последнем случае систему называют кубитом с временным кодированием (time-bin qubit, TB-кубит). Состояние такого кубита представляет собой суперпозицию состояний, соответствующих фотону, который движется с различной временной задержкой. Обычно фотон, прибывающий раньше, соответствует состоянию |0>, а позже — |1>. Простейшим способом создания такого кубита стал интерферометр, чьи плечи имеют различную длину. Впрочем, мало создать фотонные кубиты, надо также уметь ими манипулировать, а также ретранслировать их запутанность дальше в системе повторителей. Последнее необходимо в приложениях распределения квантового ключа на большие расстояния, распределенных квантовых вычислениях и квантовых симуляциях. Перспективным подходом к созданию соответствующих узлов стали кристаллы, допированные редкоземельными ионами. На сегодня наибольшее время хранения квантовой информации в таких средах не превышает одной миллисекунды. Однако даже краткосрочным квантовым повторителям требуется время хранения не менее 10 миллисекунд, хотя, скорее всего, оно должно быть в десятки раз больше. Это служит мотивацией для поиска условий, которые могли бы продлить когерентность редкоземельных ионов. Физики из Франции и Швейцарии при участии Микаэля Афзелиуса (Mikael Afzelius) сообщили о том, что им удалось добиться времени хранения кубитов с временным кодированием равного 20 миллисекундам в кристалле 151Eu3+:Y2SiO5. Этого удалось добиться применением к кристаллу техники динамической развязки и небольшого магнитного поля. Извлеченные из кристалла фотоны продемонстрировали степень совпадения (fidelity) равную 85 процентам для среднего количества фотонов на кубит равного 0,92. В основе квантовой памяти, созданной авторами, лежит механизм фотонного эха. Этот эффект заключается в обратимости эволюции когерентных атомных состояний с помощью правильно подобранной серии управляющих импульсов. В результате атомный ансамбль, поглотивший некоторую сигнальную последовательность импульсов, после некоторых манипуляций переизлучает ее обратно. Для хранения TB-кубитов с помощью фотонного эха требуется одновременное хранение нескольких временных мод. Для этого физиками была придумана концепция атомных частотных гребенок — то есть спектра поглощения кристалла, состоящего из эквидистантных линий. Для создания таких гребенок физики как правило используют серию мощных импульсов с частотным интервалом, работающих за счет эффекта электромагнитно-индуцированной прозрачности. Основной 7F0 и возбужденный 5D0 термы иона Eu3+, использованного в работе, разделяет оптический переход на длине волны 580 нанометров. Из-за наличия ядерного спина каждый из них расщепляется на три сверхтонких дуплета с интервалами порядка нескольких десятков мегагерц. Эта структура позволила авторам выбрать Λ-схему, в которой решетка наводится на первый подуровень основного терма (|g>), переход с него на первый подуровень возбужденного терма (|e>) нужен для записи кубита, а второй подуровень основного терма (|s>) нужен для его долгосрочного хранения.   Ранее мы уже рассказывали, как другой редкоземельный ион — иттербий, — помещенный в оптический резонатор, продемонстрировал высокую когерентность спинового состояния и быстрое его считывание. Марат Хамадеев Нашли опечатку? Выделите фрагмент и нажмите Ctrl+Enter. Коэффициент сложности Коэффициент сложности Коэффициент сложности Коэффициент сложности Коэффициент сложности Коэффициент сложности Коэффициент сложности Коэффициент сложности Коэффициент сложности Коэффициент сложности © 2022 N + 1 Интернет-издание   Свидетельство о регистрации СМИ Эл № ФС77-67614 Использование всех текстовых материалов без изменений в некоммерческих целях разрешается со ссылкой на N + 1.                          Все аудиовизуальные произведения являются собственностью своих авторов и правообладателей и используются                          только в образовательных и информационных целях. Если вы являетесь собственником того или иного произведения                          и не согласны с его размещением на нашем сайте, пожалуйста, напишите на kirill@nplus1.ru Материалы, опубликованные в разделе «Блоги», отражают позиции их авторов, которые могут не совпадать с мнением редакции. Сайт может содержать контент, не предназначенный для лиц младше 18 лет. Связь с редакцией: info@nplus1.ru  Политика обработки персональных данных пользователей сайта    Change privacy settings   ',\n",
       " ['Физика'],\n",
       " '8.4')"
      ]
     },
     "execution_count": 64,
     "metadata": {},
     "output_type": "execute_result"
    }
   ],
   "source": [
    "news[0]"
   ]
  },
  {
   "cell_type": "markdown",
   "metadata": {},
   "source": [
    "Импортируем `pandas` и создадим датафрейм из списка кортежей: "
   ]
  },
  {
   "cell_type": "code",
   "execution_count": 29,
   "metadata": {},
   "outputs": [],
   "source": [
    "import pandas as pd"
   ]
  },
  {
   "cell_type": "code",
   "execution_count": 30,
   "metadata": {},
   "outputs": [],
   "source": [
    "df = pd.DataFrame(news)"
   ]
  },
  {
   "cell_type": "code",
   "execution_count": 31,
   "metadata": {},
   "outputs": [
    {
     "data": {
      "text/html": [
       "<div>\n",
       "<style scoped>\n",
       "    .dataframe tbody tr th:only-of-type {\n",
       "        vertical-align: middle;\n",
       "    }\n",
       "\n",
       "    .dataframe tbody tr th {\n",
       "        vertical-align: top;\n",
       "    }\n",
       "\n",
       "    .dataframe thead th {\n",
       "        text-align: right;\n",
       "    }\n",
       "</style>\n",
       "<table border=\"1\" class=\"dataframe\">\n",
       "  <thead>\n",
       "    <tr style=\"text-align: right;\">\n",
       "      <th></th>\n",
       "      <th>0</th>\n",
       "      <th>1</th>\n",
       "      <th>2</th>\n",
       "      <th>3</th>\n",
       "      <th>4</th>\n",
       "      <th>5</th>\n",
       "      <th>6</th>\n",
       "      <th>7</th>\n",
       "    </tr>\n",
       "  </thead>\n",
       "  <tbody>\n",
       "    <tr>\n",
       "      <th>0</th>\n",
       "      <td>https://nplus1.ru/news/2019/03/31/first</td>\n",
       "      <td>2019-03-31</td>\n",
       "      <td>Илья Ферапонтов</td>\n",
       "      <td>Он должен заменить легкий транспортник Ан-26</td>\n",
       "      <td>Транспортный самолет Ил-112В совершил первый п...</td>\n",
       "      <td>Российский военно-транспортный самолет Ил-112В...</td>\n",
       "      <td>[Авиация]</td>\n",
       "      <td>1.2</td>\n",
       "    </tr>\n",
       "    <tr>\n",
       "      <th>1</th>\n",
       "      <td>https://nplus1.ru/news/2019/03/30/very-big-bou...</td>\n",
       "      <td>2019-03-30</td>\n",
       "      <td>Александр Войтюк</td>\n",
       "      <td>В создании стереопары принял участие астрофизи...</td>\n",
       "      <td>OSIRIS-REx показал 52-метровую скалу на поверх...</td>\n",
       "      <td>Исследователи из команды миссии OSIRIS-REx соз...</td>\n",
       "      <td>[Астрономия]</td>\n",
       "      <td>2.3</td>\n",
       "    </tr>\n",
       "  </tbody>\n",
       "</table>\n",
       "</div>"
      ],
      "text/plain": [
       "                                                   0           1  \\\n",
       "0            https://nplus1.ru/news/2019/03/31/first  2019-03-31   \n",
       "1  https://nplus1.ru/news/2019/03/30/very-big-bou...  2019-03-30   \n",
       "\n",
       "                  2                                                  3  \\\n",
       "0   Илья Ферапонтов       Он должен заменить легкий транспортник Ан-26   \n",
       "1  Александр Войтюк  В создании стереопары принял участие астрофизи...   \n",
       "\n",
       "                                                   4  \\\n",
       "0  Транспортный самолет Ил-112В совершил первый п...   \n",
       "1  OSIRIS-REx показал 52-метровую скалу на поверх...   \n",
       "\n",
       "                                                   5             6    7  \n",
       "0  Российский военно-транспортный самолет Ил-112В...     [Авиация]  1.2  \n",
       "1  Исследователи из команды миссии OSIRIS-REx соз...  [Астрономия]  2.3  "
      ]
     },
     "execution_count": 31,
     "metadata": {},
     "output_type": "execute_result"
    }
   ],
   "source": [
    "df.head(2)"
   ]
  },
  {
   "cell_type": "markdown",
   "metadata": {},
   "source": [
    "Переименуем столбцы в базе."
   ]
  },
  {
   "cell_type": "code",
   "execution_count": 32,
   "metadata": {},
   "outputs": [],
   "source": [
    "df.columns = ['link', 'date', 'author', 'desc', 'title', 'text', 'rubric', 'diffc']"
   ]
  },
  {
   "cell_type": "code",
   "execution_count": 33,
   "metadata": {},
   "outputs": [
    {
     "data": {
      "text/html": [
       "<div>\n",
       "<style scoped>\n",
       "    .dataframe tbody tr th:only-of-type {\n",
       "        vertical-align: middle;\n",
       "    }\n",
       "\n",
       "    .dataframe tbody tr th {\n",
       "        vertical-align: top;\n",
       "    }\n",
       "\n",
       "    .dataframe thead th {\n",
       "        text-align: right;\n",
       "    }\n",
       "</style>\n",
       "<table border=\"1\" class=\"dataframe\">\n",
       "  <thead>\n",
       "    <tr style=\"text-align: right;\">\n",
       "      <th></th>\n",
       "      <th>link</th>\n",
       "      <th>date</th>\n",
       "      <th>author</th>\n",
       "      <th>desc</th>\n",
       "      <th>title</th>\n",
       "      <th>text</th>\n",
       "      <th>rubric</th>\n",
       "      <th>diffc</th>\n",
       "    </tr>\n",
       "  </thead>\n",
       "  <tbody>\n",
       "    <tr>\n",
       "      <th>0</th>\n",
       "      <td>https://nplus1.ru/news/2019/03/31/first</td>\n",
       "      <td>2019-03-31</td>\n",
       "      <td>Илья Ферапонтов</td>\n",
       "      <td>Он должен заменить легкий транспортник Ан-26</td>\n",
       "      <td>Транспортный самолет Ил-112В совершил первый п...</td>\n",
       "      <td>Российский военно-транспортный самолет Ил-112В...</td>\n",
       "      <td>[Авиация]</td>\n",
       "      <td>1.2</td>\n",
       "    </tr>\n",
       "    <tr>\n",
       "      <th>1</th>\n",
       "      <td>https://nplus1.ru/news/2019/03/30/very-big-bou...</td>\n",
       "      <td>2019-03-30</td>\n",
       "      <td>Александр Войтюк</td>\n",
       "      <td>В создании стереопары принял участие астрофизи...</td>\n",
       "      <td>OSIRIS-REx показал 52-метровую скалу на поверх...</td>\n",
       "      <td>Исследователи из команды миссии OSIRIS-REx соз...</td>\n",
       "      <td>[Астрономия]</td>\n",
       "      <td>2.3</td>\n",
       "    </tr>\n",
       "  </tbody>\n",
       "</table>\n",
       "</div>"
      ],
      "text/plain": [
       "                                                link        date  \\\n",
       "0            https://nplus1.ru/news/2019/03/31/first  2019-03-31   \n",
       "1  https://nplus1.ru/news/2019/03/30/very-big-bou...  2019-03-30   \n",
       "\n",
       "             author                                               desc  \\\n",
       "0   Илья Ферапонтов       Он должен заменить легкий транспортник Ан-26   \n",
       "1  Александр Войтюк  В создании стереопары принял участие астрофизи...   \n",
       "\n",
       "                                               title  \\\n",
       "0  Транспортный самолет Ил-112В совершил первый п...   \n",
       "1  OSIRIS-REx показал 52-метровую скалу на поверх...   \n",
       "\n",
       "                                                text        rubric diffc  \n",
       "0  Российский военно-транспортный самолет Ил-112В...     [Авиация]   1.2  \n",
       "1  Исследователи из команды миссии OSIRIS-REx соз...  [Астрономия]   2.3  "
      ]
     },
     "execution_count": 33,
     "metadata": {},
     "output_type": "execute_result"
    }
   ],
   "source": [
    "df.head(2)"
   ]
  },
  {
   "cell_type": "markdown",
   "metadata": {},
   "source": [
    "Теперь внесем изменения: сделаем столбец `diffc` числовым – типа *float*."
   ]
  },
  {
   "cell_type": "code",
   "execution_count": 34,
   "metadata": {},
   "outputs": [],
   "source": [
    "df['diffc'] = [float(i) for i in df.diffc]"
   ]
  },
  {
   "cell_type": "markdown",
   "metadata": {},
   "source": [
    "Теперь сложность представлена в базе как количественный показатель, и описывать ее можно соответствующим образом:"
   ]
  },
  {
   "cell_type": "code",
   "execution_count": 35,
   "metadata": {},
   "outputs": [
    {
     "data": {
      "text/plain": [
       "count    30.000000\n",
       "mean      4.416667\n",
       "std       2.370521\n",
       "min       1.100000\n",
       "25%       2.125000\n",
       "50%       4.900000\n",
       "75%       6.750000\n",
       "max       8.200000\n",
       "Name: diffc, dtype: float64"
      ]
     },
     "execution_count": 35,
     "metadata": {},
     "output_type": "execute_result"
    }
   ],
   "source": [
    "df.diffc.describe()"
   ]
  },
  {
   "cell_type": "markdown",
   "metadata": {},
   "source": [
    "Теперь столбец со сложностью точно числовой. Можем даже построить для него гистограмму."
   ]
  },
  {
   "cell_type": "code",
   "execution_count": 36,
   "metadata": {},
   "outputs": [
    {
     "data": {
      "text/plain": [
       "<matplotlib.axes._subplots.AxesSubplot at 0x1174ce198>"
      ]
     },
     "execution_count": 36,
     "metadata": {},
     "output_type": "execute_result"
    },
    {
     "data": {
      "image/png": "[encoded data removed]",
      "text/plain": [
       "<Figure size 432x288 with 1 Axes>"
      ]
     },
     "metadata": {},
     "output_type": "display_data"
    }
   ],
   "source": [
    "%matplotlib inline\n",
    "df.diffc.plot.hist()"
   ]
  },
  {
   "cell_type": "markdown",
   "metadata": {},
   "source": [
    "Объединим рубрики в *text* в одну строку через запятую:"
   ]
  },
  {
   "cell_type": "code",
   "execution_count": 37,
   "metadata": {},
   "outputs": [],
   "source": [
    "df['rubric'] = [','.join(r) for r in df.rubric]"
   ]
  },
  {
   "cell_type": "markdown",
   "metadata": {},
   "source": [
    "Давайте почистим текст новостей – уберем оттуда текст, не относящийся к новостям. Найдем лишнее:"
   ]
  },
  {
   "cell_type": "code",
   "execution_count": null,
   "metadata": {},
   "outputs": [],
   "source": [
    "df.text[0]"
   ]
  },
  {
   "cell_type": "markdown",
   "metadata": {},
   "source": [
    "Лишний текст находится после фразы 'Нашли опечатку?'. Так давайте будем разбивать строки по этой фразе с помощью метода `.split()` и брать все, что до нее (элемент с индексом 0)."
   ]
  },
  {
   "cell_type": "code",
   "execution_count": 38,
   "metadata": {},
   "outputs": [],
   "source": [
    "df['clean_text'] = [t.split('Нашли опечатку?')[0] for t in df.text]"
   ]
  },
  {
   "cell_type": "markdown",
   "metadata": {},
   "source": [
    "Осталось только заменить непонятные символы `\\xa0` на пробелы:"
   ]
  },
  {
   "cell_type": "code",
   "execution_count": 39,
   "metadata": {},
   "outputs": [],
   "source": [
    "df['clean_text'] = [t.replace(\"\\xa0\", \" \") for t in df.clean_text]"
   ]
  },
  {
   "cell_type": "code",
   "execution_count": 40,
   "metadata": {},
   "outputs": [
    {
     "data": {
      "text/plain": [
       "'Российский военно-транспортный самолет Ил-112В совершил первый полет, сообщает Авиационный комплекс имени Ильюшина. Испытания прошли на аэродроме воронежского авиазавода ПАО «ВАСО», командиром экипажа был шеф-пилот ПАО «Ил» Герой России Николай Куимов. Первый полет стал завершением цикла аэродромной отработки, в ходе которой были проведены испытания всех систем, в том числе пробежки по аэродрому. Полет прошел в штатном режиме. В воздухе Ил-112В сопровождал самолет-лаборатория Ил-114ЛЛ. Ил-112В в перспективе должен заменить легкий транспортник Ан-26. Он будет использоваться для перевозки и десантирования легкой техники, грузов и бойцов, его грузоподъемность — около пяти тонн. Самолет сможет развивать скорость до 550 километров в час и совершать полеты на расстояние до 3,4 тысячи километров, а при взлете с грунтовых аэродромов и максимальной загрузкой — до 1,2 тысячи километров. Транспортник сможет взлетать с взлетно-посадочных полос длиной не более 900 метров. Пробег Ил-112В при посадке составит около 600 метров. Ранее Министерство обороны России объявляло о намерении приобрести 62 самолета этого типа до 2020 года, однако в августе 2018 года появилась информация о планах заказать не менее 100 машин. Сергей Кузнецов '"
      ]
     },
     "execution_count": 40,
     "metadata": {},
     "output_type": "execute_result"
    }
   ],
   "source": [
    "df.clean_text[0]"
   ]
  },
  {
   "cell_type": "markdown",
   "metadata": {},
   "source": [
    "Всё! Сохраняем датафрейм в файл. Для разнообразия сохраним в Excel:"
   ]
  },
  {
   "cell_type": "code",
   "execution_count": 41,
   "metadata": {},
   "outputs": [],
   "source": [
    "df.to_excel('nplus-news.xlsx')"
   ]
  }
 ],
 "metadata": {
  "kernelspec": {
   "display_name": "Python 3",
   "language": "python",
   "name": "python3"
  },
  "language_info": {
   "codemirror_mode": {
    "name": "ipython",
    "version": 3
   },
   "file_extension": ".py",
   "mimetype": "text/x-python",
   "name": "python",
   "nbconvert_exporter": "python",
   "pygments_lexer": "ipython3",
   "version": "3.8.3"
  }
 },
 "nbformat": 4,
 "nbformat_minor": 2
}
